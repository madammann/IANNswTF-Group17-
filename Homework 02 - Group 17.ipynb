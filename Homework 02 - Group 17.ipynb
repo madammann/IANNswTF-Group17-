{
 "cells": [
  {
   "cell_type": "markdown",
   "id": "ee337168",
   "metadata": {},
   "source": [
    "# IANNwTF - Homework 02\n",
    "(by Group 17 - Nils Niehaus, Philipp Bauer, Marlon Dammann)"
   ]
  },
  {
   "cell_type": "code",
   "execution_count": 1,
   "id": "ea1e684f",
   "metadata": {},
   "outputs": [],
   "source": [
    "import numpy as np\n",
    "from math import e as exp\n",
    "import matplotlib.pyplot as plt"
   ]
  },
  {
   "cell_type": "markdown",
   "id": "980c6168",
   "metadata": {},
   "source": [
    "## 1 - Preparation"
   ]
  },
  {
   "cell_type": "code",
   "execution_count": 2,
   "id": "003f3a56",
   "metadata": {},
   "outputs": [],
   "source": [
    "def sigmoid(x):\n",
    "    '''The sigmoid activation function'''\n",
    "    return 1/(1+exp**(-x))\n",
    "\n",
    "def sigmoidprime(x):\n",
    "    '''The derivative of the sigmoid activation function'''\n",
    "    return (exp**(-x))/(1+exp**(-x))**2"
   ]
  },
  {
   "cell_type": "markdown",
   "id": "657cd754",
   "metadata": {},
   "source": [
    "## 2 - Data Set"
   ]
  },
  {
   "cell_type": "code",
   "execution_count": 3,
   "id": "f4eae061",
   "metadata": {},
   "outputs": [],
   "source": [
    "possible_combinations = np.array([[1,1],[1,0],[0,1],[0,0]])\n",
    "and_labels = np.array([1,0,0,0])\n",
    "or_labels = np.array([1,1,1,0])\n",
    "not_and_labels = np.array([0,1,1,1])\n",
    "not_or_labels = np.array([0,0,0,1])\n",
    "xor_labels = np.array([0,1,1,0])"
   ]
  },
  {
   "cell_type": "markdown",
   "id": "3b371b39",
   "metadata": {},
   "source": [
    "## 3 - Perceptron\n",
    "(For this task we have imported and rewritten the Perceptron class from last semester of Machine Learning)"
   ]
  },
  {
   "cell_type": "code",
   "execution_count": 4,
   "id": "a9933267",
   "metadata": {},
   "outputs": [],
   "source": [
    "class Perceptron:\n",
    "    \"\"\"Single neuron handling its own weights and bias.\"\"\"\n",
    "\n",
    "    def __init__(self, input_units, act_func=sigmoid, learning_rate=1.):\n",
    "        \"\"\"Initialize a new neuron with its weights and bias.\n",
    "\n",
    "        Args:\n",
    "            input_units (int): Dimensionality of the data coming into this perceptron. \n",
    "                In a network of perceptrons this basically represents the \n",
    "                number of neurons in the layer before this neuron's layer. \n",
    "                Used for generating the perceptron's weights vector, which \n",
    "                not only includes one weight per input but also an additional \n",
    "                bias weight.\n",
    "            act_fun (function): Function to apply on activation.\n",
    "            learning_rate (float): Learning rate applied in backpropagation.\n",
    "        \"\"\"\n",
    "        self.act_func = act_func\n",
    "        self.alpha = learning_rate\n",
    "        self.bias = np.random.randn(1)\n",
    "        self.weights = np.random.randn(input_units)\n",
    "        self.output = None\n",
    "\n",
    "    def forward_step(self, x):\n",
    "        \"\"\"Activate this neuron with a specific input.\n",
    "\n",
    "        Calculate the weighted sum of inputs and apply the activation function.\n",
    "\n",
    "        Args:\n",
    "            x (ndarray): Vector of input values.\n",
    "\n",
    "        Returns:\n",
    "            float: A real number representing the perceptron's activation after \n",
    "            calculating the weighted sum of inputs and applying the \n",
    "            perceptron's activation function.\n",
    "        \"\"\"\n",
    "        # Correct inout in case it is a single number\n",
    "        if type(x) != type(np.array):\n",
    "            x = np.array([x])\n",
    "        if len(x.shape) == 2:\n",
    "            x = x[0]\n",
    "        self.x = x\n",
    "        # Return the activation value\n",
    "        self.output = np.append([self.bias], [weight*input_val for weight, input_val in zip(self.weights,x)])\n",
    "        return self.act_func(np.sum(self.output))\n",
    "\n",
    "    def update(self, delta):\n",
    "        \"\"\"Adapt this neuron's weights by a specific delta.\n",
    "\n",
    "        Args:\n",
    "            delta (float): Error term.\n",
    "        \"\"\"\n",
    "        # Adapt self.weights according to the update rule\n",
    "        deltaBias = delta * sigmoidprime(np.sum(self.output))\n",
    "        self.bias -= self.alpha*deltaBias\n",
    "        for i in range(0, len(self.weights)):\n",
    "            deltaWeight = delta * self.x[i]\n",
    "            self.weights[i] -= self.alpha*deltaWeight"
   ]
  },
  {
   "cell_type": "markdown",
   "id": "05187147",
   "metadata": {},
   "source": [
    "## 4 - Multi-Layer Perceptron"
   ]
  },
  {
   "cell_type": "code",
   "execution_count": 5,
   "id": "7a46eaf8",
   "metadata": {},
   "outputs": [],
   "source": [
    "class MultiLayerPerceptron:\n",
    "    '''The Multi-Layer Perceptron class'''\n",
    "    def __init__(self,size=(2,4,1)):\n",
    "        self.perceptron_layers = []\n",
    "        for i in range(len(size)):\n",
    "            if i == 0:\n",
    "                self.perceptron_layers.append([Perceptron(1) for j in range(size[i])])\n",
    "            else:\n",
    "                self.perceptron_layers.append([Perceptron(size[i-1]) for j in range(size[i])])\n",
    "        self.perceptron_layers = np.array(self.perceptron_layers)\n",
    "        \n",
    "    def forward_step(self,x):\n",
    "        output = [self.perceptron_layers[0][i].forward_step(np.array(x[i])) for i in range(len(x))]\n",
    "        for i in range(1,len(self.perceptron_layers)):\n",
    "            output = [self.perceptron_layers[i][j].forward_step(output) for j in range(len(self.perceptron_layers[i]))]\n",
    "        return output\n",
    "    \n",
    "    def backprop_step(self, target, output):\n",
    "        '''Iterate over output layer'''\n",
    "        delta = [[]]\n",
    "        for i in range(len(self.perceptron_layers[len(self.perceptron_layers)-1])):\n",
    "            delta[0].append((-1)*(target-output)*sigmoidprime(np.sum(self.perceptron_layers[len(self.perceptron_layers)-1][i].output)))\n",
    "            self.perceptron_layers[len(self.perceptron_layers)-1][i].update(delta[0][i])\n",
    "\n",
    "        '''Iterate over hidden layer to input layer'''\n",
    "        for i in range(len(self.perceptron_layers)-1):\n",
    "            delta.append([])\n",
    "            for j in range(len(self.perceptron_layers[len(self.perceptron_layers)-2-i])):\n",
    "                delta[i+1].append(np.sum([delta[i][k]*self.perceptron_layers[len(self.perceptron_layers)-1][k].weights[j] for k in range(len(self.perceptron_layers[len(self.perceptron_layers)-1]))])*sigmoidprime(np.sum(self.perceptron_layers[len(self.perceptron_layers)-2-i][j].output)))\n",
    "                self.perceptron_layers[len(self.perceptron_layers)-2-i][j].update(delta[i+1][j])"
   ]
  },
  {
   "cell_type": "markdown",
   "id": "37952cc9",
   "metadata": {},
   "source": [
    "## 5 - Training"
   ]
  },
  {
   "cell_type": "code",
   "execution_count": 6,
   "id": "ee9e1784",
   "metadata": {},
   "outputs": [],
   "source": [
    "def training_epoch(model,dataset,labels):\n",
    "    avg_loss = []\n",
    "    accuracy = []\n",
    "    for data,target in list(zip(dataset,labels)):\n",
    "        output = model.forward_step(data)[0]\n",
    "        \n",
    "        avg_loss += [(target - output)**2]\n",
    "        \n",
    "        if output <= 0.5 and target == 0:\n",
    "            accuracy += [1]\n",
    "        elif output >= 0.5 and target == 1:\n",
    "            accuracy += [1]\n",
    "        else:\n",
    "            accuracy += [0]\n",
    "            \n",
    "        model.backprop_step(target, output)\n",
    "    return np.mean(avg_loss), np.mean(accuracy)"
   ]
  },
  {
   "cell_type": "code",
   "execution_count": 7,
   "id": "422d16f9",
   "metadata": {},
   "outputs": [
    {
     "name": "stderr",
     "output_type": "stream",
     "text": [
      "C:\\Users\\marlo\\AppData\\Local\\Temp/ipykernel_13376/188105780.py:10: VisibleDeprecationWarning: Creating an ndarray from ragged nested sequences (which is a list-or-tuple of lists-or-tuples-or ndarrays with different lengths or shapes) is deprecated. If you meant to do this, you must specify 'dtype=object' when creating the ndarray.\n",
      "  self.perceptron_layers = np.array(self.perceptron_layers)\n"
     ]
    }
   ],
   "source": [
    "model = MultiLayerPerceptron()\n",
    "total_avg_loss = []\n",
    "total_accuracy = []\n",
    "for epoch_num in range(1000):\n",
    "    a,b = training_epoch(model,possible_combinations,and_labels)\n",
    "    total_avg_loss += [a]\n",
    "    total_accuracy += [b]"
   ]
  },
  {
   "cell_type": "markdown",
   "id": "1da9e79e",
   "metadata": {},
   "source": [
    "## 6 - Visualization"
   ]
  },
  {
   "cell_type": "code",
   "execution_count": 8,
   "id": "2bf3562c",
   "metadata": {},
   "outputs": [
    {
     "data": {
      "image/png": "[encoded data removed]",
      "text/plain": [
       "<Figure size 648x432 with 2 Axes>"
      ]
     },
     "metadata": {
      "needs_background": "light"
     },
     "output_type": "display_data"
    }
   ],
   "source": [
    "fig, axes = plt.subplots(nrows=2, ncols=1, sharex=True, figsize=(9, 6))\n",
    "axes[0].set(title=\"average loss\")\n",
    "axes[1].set(title=\"average accuracy\")\n",
    "\n",
    "x = np.array(list(range(1,1001)))\n",
    "y_1 = np.array(total_avg_loss)\n",
    "y_2 = total_accuracy\n",
    "\n",
    "axes[0].set(\n",
    "        title=\"average loss\",\n",
    "        ylabel=\"average loss\", \n",
    "        xlabel=\"number of epochs\"\n",
    ")\n",
    "\n",
    "axes[1].set(\n",
    "        title=\"average accuracy\",\n",
    "        ylabel=\"average accuracy\", \n",
    "        xlabel=\"number of epochs\"\n",
    ")\n",
    "\n",
    "axes[0].plot(x, y_1)\n",
    "axes[1].plot(x, y_2)\n",
    "\n",
    "fig.tight_layout()\n",
    "\n",
    "plt.show()"
   ]
  },
  {
   "cell_type": "code",
   "execution_count": null,
   "id": "74e1670e",
   "metadata": {},
   "outputs": [],
   "source": []
  }
 ],
 "metadata": {
  "kernelspec": {
   "display_name": "Python 3 (ipykernel)",
   "language": "python",
   "name": "python3"
  },
  "language_info": {
   "codemirror_mode": {
    "name": "ipython",
    "version": 3
   },
   "file_extension": ".py",
   "mimetype": "text/x-python",
   "name": "python",
   "nbconvert_exporter": "python",
   "pygments_lexer": "ipython3",
   "version": "3.9.7"
  }
 },
 "nbformat": 4,
 "nbformat_minor": 5
}
