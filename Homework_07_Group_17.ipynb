{
 "cells": [
  {
   "cell_type": "markdown",
   "id": "d2268efb",
   "metadata": {},
   "source": [
    "# IANNWTF - Homework 07\n",
    "(by Group 17 - Nils Niehaus, Philipp Bauer, Marlon Dammann)"
   ]
  },
  {
   "cell_type": "code",
   "execution_count": 52,
   "id": "9a7f8788",
   "metadata": {},
   "outputs": [],
   "source": [
    "import numpy as np\n",
    "import matplotlib.pyplot as plt\n",
    "import tensorflow as tf\n",
    "import tensorflow_datasets as tfds\n",
    "from tqdm import tqdm"
   ]
  },
  {
   "cell_type": "markdown",
   "id": "231961b6",
   "metadata": {},
   "source": [
    "## 1 - Generating the dataset"
   ]
  },
  {
   "cell_type": "code",
   "execution_count": 264,
   "id": "3077ee2f",
   "metadata": {},
   "outputs": [],
   "source": [
    "def integration_task(seq_len, num_samples):\n",
    "    for _ in range(num_samples):\n",
    "        data = np.random.normal(size=seq_len)\n",
    "        target = True if np.sum(data) > 0 else False\n",
    "        data = np.expand_dims(data,-1)\n",
    "        yield data, target"
   ]
  },
  {
   "cell_type": "code",
   "execution_count": 265,
   "id": "9bfa0b93",
   "metadata": {},
   "outputs": [],
   "source": [
    "def my_integration_task():\n",
    "    for elem in integration_task(10, 50000):\n",
    "        yield elem"
   ]
  },
  {
   "cell_type": "code",
   "execution_count": 266,
   "id": "70951c7b",
   "metadata": {},
   "outputs": [],
   "source": [
    "dataset = tf.data.Dataset.from_generator(\n",
    "    my_integration_task,\n",
    "    output_signature=(\n",
    "        tf.TensorSpec(shape=(10,1),dtype='float32'),\n",
    "        tf.TensorSpec(shape=(),dtype='float32')\n",
    "    )\n",
    ")"
   ]
  },
  {
   "cell_type": "code",
   "execution_count": 267,
   "id": "53665ce7",
   "metadata": {},
   "outputs": [
    {
     "name": "stdout",
     "output_type": "stream",
     "text": [
      "(<tf.Tensor: shape=(10, 1), dtype=float32, numpy=\n",
      "array([[ 1.1889379 ],\n",
      "       [-1.2033726 ],\n",
      "       [ 1.0986694 ],\n",
      "       [-0.14544404],\n",
      "       [ 0.17247747],\n",
      "       [ 1.275339  ],\n",
      "       [ 0.72373897],\n",
      "       [ 0.59806794],\n",
      "       [ 0.6303027 ],\n",
      "       [-0.34983912]], dtype=float32)>, <tf.Tensor: shape=(), dtype=float32, numpy=1.0>)\n"
     ]
    }
   ],
   "source": [
    "for elem in dataset.take(1):\n",
    "    print(elem)"
   ]
  },
  {
   "cell_type": "markdown",
   "id": "1655bc05",
   "metadata": {},
   "source": [
    "## 2 - Model"
   ]
  },
  {
   "cell_type": "code",
   "execution_count": 260,
   "id": "43e5d9ad",
   "metadata": {},
   "outputs": [],
   "source": [
    "class LSTM_Cell(tf.keras.layers.Layer):\n",
    "    def __init__(self, units):\n",
    "        super(LSTM_Cell, self).__init__()\n",
    "        self.units = units\n",
    "    \n",
    "    def build(self, input_shape):\n",
    "        self.forget_gate = tf.keras.layers.Dense()\n",
    "        self.input_gate = tf.keras.layers.Dense()\n",
    "        self.output_gate = tf.keras.layers.Dense()\n",
    "        \n",
    "        \n",
    "        \n",
    "        \n",
    "#         self.w = self.add_weight(shape=(input_shape[-1], self.units),\n",
    "#                                initializer='random_normal',\n",
    "#                                trainable=True)\n",
    "#         self.b = self.add_weight(shape=(self.units,),\n",
    "#                                initializer='random_normal',\n",
    "#                                trainable=True)\n",
    "    \n",
    "    def call(self, x, states):\n",
    "        cell_state = states[0]\n",
    "        hidden = states[1]\n",
    "        x = tf.concat([x, states[1]])\n",
    "        cell_state = tf.matmul(self.forget_gate(x), cell_state)\n",
    "        cell_state_candidate = tf.matmul(self.input_gate(x), self.tanh_layer_blabla(x))\n",
    "        cell_state = cell_state_candidate + cell_state\n",
    "        x = self.output_gate(x)\n",
    "        hidden = tf.matmul(x,tf.keras.nn.tanh(cell_state))\n",
    "        return hidden, cell_state"
   ]
  },
  {
   "cell_type": "code",
   "execution_count": 262,
   "id": "0bdfd10e",
   "metadata": {},
   "outputs": [],
   "source": [
    "class LSTM_Layer:\n",
    "    def __init__(self):\n",
    "        self.units = [LSTM_Cell(xy) for _ in range(xy)]\n",
    "    def call(self, x):\n",
    "        pass"
   ]
  },
  {
   "cell_type": "code",
   "execution_count": 261,
   "id": "069bd58f",
   "metadata": {},
   "outputs": [],
   "source": [
    "class LSTM_Model:\n",
    "    def __init__(self):\n",
    "        pass\n",
    "    def call(self, x):\n",
    "        pass"
   ]
  },
  {
   "cell_type": "code",
   "execution_count": null,
   "id": "0840ea59",
   "metadata": {},
   "outputs": [],
   "source": []
  },
  {
   "cell_type": "markdown",
   "id": "b4b262d5",
   "metadata": {},
   "source": [
    "## 3 - Training"
   ]
  },
  {
   "cell_type": "code",
   "execution_count": null,
   "id": "a5547c4c",
   "metadata": {},
   "outputs": [],
   "source": []
  },
  {
   "cell_type": "code",
   "execution_count": null,
   "id": "313c081b",
   "metadata": {},
   "outputs": [],
   "source": []
  },
  {
   "cell_type": "code",
   "execution_count": null,
   "id": "612d5eb3",
   "metadata": {},
   "outputs": [],
   "source": []
  },
  {
   "cell_type": "code",
   "execution_count": null,
   "id": "d7d40b69",
   "metadata": {},
   "outputs": [],
   "source": []
  }
 ],
 "metadata": {
  "kernelspec": {
   "display_name": "Python 3 (ipykernel)",
   "language": "python",
   "name": "python3"
  },
  "language_info": {
   "codemirror_mode": {
    "name": "ipython",
    "version": 3
   },
   "file_extension": ".py",
   "mimetype": "text/x-python",
   "name": "python",
   "nbconvert_exporter": "python",
   "pygments_lexer": "ipython3",
   "version": "3.9.7"
  }
 },
 "nbformat": 4,
 "nbformat_minor": 5
}
