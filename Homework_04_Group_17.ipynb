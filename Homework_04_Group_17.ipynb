{
 "cells": [
  {
   "cell_type": "markdown",
   "id": "86857f12",
   "metadata": {},
   "source": [
    "# IANNWTF - Homework 04\n",
    "(by Group 17 - Nils Niehaus, Philipp Bauer, Marlon Dammann)"
   ]
  },
  {
   "cell_type": "markdown",
   "id": "a46eae0a",
   "metadata": {},
   "source": [
    "## Required Imports"
   ]
  },
  {
   "cell_type": "code",
   "execution_count": 1,
   "id": "c2e56241",
   "metadata": {},
   "outputs": [],
   "source": [
    "import numpy as np\n",
    "import pandas as pd\n",
    "import tensorflow as tf\n",
    "import tensorflow_datasets as tfds\n",
    "import matplotlib.pyplot as plt\n",
    "\n",
    "from tqdm import tqdm # We added tqdm to visualize the progress of our training epochs"
   ]
  },
  {
   "cell_type": "markdown",
   "id": "b451b625",
   "metadata": {},
   "source": [
    "The dataset \"winequality-red\" is downloaded from via this [link](https://archive.ics.uci.edu/ml/machine-learning-databases/wine-quality/winequality-red.csv) and then moved to the same folder as this notebook."
   ]
  },
  {
   "cell_type": "markdown",
   "id": "23107269",
   "metadata": {},
   "source": [
    "---\n",
    "## 1 - Dataset\n",
    "### 1.1 Loading the data\n",
    "For the start we load the data with pandas and analyse the content."
   ]
  },
  {
   "cell_type": "code",
   "execution_count": 2,
   "id": "1e1e73e3",
   "metadata": {},
   "outputs": [
    {
     "data": {
      "text/html": [
       "<div>\n",
       "<style scoped>\n",
       "    .dataframe tbody tr th:only-of-type {\n",
       "        vertical-align: middle;\n",
       "    }\n",
       "\n",
       "    .dataframe tbody tr th {\n",
       "        vertical-align: top;\n",
       "    }\n",
       "\n",
       "    .dataframe thead th {\n",
       "        text-align: right;\n",
       "    }\n",
       "</style>\n",
       "<table border=\"1\" class=\"dataframe\">\n",
       "  <thead>\n",
       "    <tr style=\"text-align: right;\">\n",
       "      <th></th>\n",
       "      <th>fixed acidity</th>\n",
       "      <th>volatile acidity</th>\n",
       "      <th>citric acid</th>\n",
       "      <th>residual sugar</th>\n",
       "      <th>chlorides</th>\n",
       "      <th>free sulfur dioxide</th>\n",
       "      <th>total sulfur dioxide</th>\n",
       "      <th>density</th>\n",
       "      <th>pH</th>\n",
       "      <th>sulphates</th>\n",
       "      <th>alcohol</th>\n",
       "      <th>quality</th>\n",
       "    </tr>\n",
       "  </thead>\n",
       "  <tbody>\n",
       "    <tr>\n",
       "      <th>0</th>\n",
       "      <td>7.4</td>\n",
       "      <td>0.70</td>\n",
       "      <td>0.00</td>\n",
       "      <td>1.9</td>\n",
       "      <td>0.076</td>\n",
       "      <td>11.0</td>\n",
       "      <td>34.0</td>\n",
       "      <td>0.9978</td>\n",
       "      <td>3.51</td>\n",
       "      <td>0.56</td>\n",
       "      <td>9.4</td>\n",
       "      <td>5</td>\n",
       "    </tr>\n",
       "    <tr>\n",
       "      <th>1</th>\n",
       "      <td>7.8</td>\n",
       "      <td>0.88</td>\n",
       "      <td>0.00</td>\n",
       "      <td>2.6</td>\n",
       "      <td>0.098</td>\n",
       "      <td>25.0</td>\n",
       "      <td>67.0</td>\n",
       "      <td>0.9968</td>\n",
       "      <td>3.20</td>\n",
       "      <td>0.68</td>\n",
       "      <td>9.8</td>\n",
       "      <td>5</td>\n",
       "    </tr>\n",
       "    <tr>\n",
       "      <th>2</th>\n",
       "      <td>7.8</td>\n",
       "      <td>0.76</td>\n",
       "      <td>0.04</td>\n",
       "      <td>2.3</td>\n",
       "      <td>0.092</td>\n",
       "      <td>15.0</td>\n",
       "      <td>54.0</td>\n",
       "      <td>0.9970</td>\n",
       "      <td>3.26</td>\n",
       "      <td>0.65</td>\n",
       "      <td>9.8</td>\n",
       "      <td>5</td>\n",
       "    </tr>\n",
       "    <tr>\n",
       "      <th>3</th>\n",
       "      <td>11.2</td>\n",
       "      <td>0.28</td>\n",
       "      <td>0.56</td>\n",
       "      <td>1.9</td>\n",
       "      <td>0.075</td>\n",
       "      <td>17.0</td>\n",
       "      <td>60.0</td>\n",
       "      <td>0.9980</td>\n",
       "      <td>3.16</td>\n",
       "      <td>0.58</td>\n",
       "      <td>9.8</td>\n",
       "      <td>6</td>\n",
       "    </tr>\n",
       "    <tr>\n",
       "      <th>4</th>\n",
       "      <td>7.4</td>\n",
       "      <td>0.70</td>\n",
       "      <td>0.00</td>\n",
       "      <td>1.9</td>\n",
       "      <td>0.076</td>\n",
       "      <td>11.0</td>\n",
       "      <td>34.0</td>\n",
       "      <td>0.9978</td>\n",
       "      <td>3.51</td>\n",
       "      <td>0.56</td>\n",
       "      <td>9.4</td>\n",
       "      <td>5</td>\n",
       "    </tr>\n",
       "  </tbody>\n",
       "</table>\n",
       "</div>"
      ],
      "text/plain": [
       "   fixed acidity  volatile acidity  citric acid  residual sugar  chlorides  \\\n",
       "0            7.4              0.70         0.00             1.9      0.076   \n",
       "1            7.8              0.88         0.00             2.6      0.098   \n",
       "2            7.8              0.76         0.04             2.3      0.092   \n",
       "3           11.2              0.28         0.56             1.9      0.075   \n",
       "4            7.4              0.70         0.00             1.9      0.076   \n",
       "\n",
       "   free sulfur dioxide  total sulfur dioxide  density    pH  sulphates  \\\n",
       "0                 11.0                  34.0   0.9978  3.51       0.56   \n",
       "1                 25.0                  67.0   0.9968  3.20       0.68   \n",
       "2                 15.0                  54.0   0.9970  3.26       0.65   \n",
       "3                 17.0                  60.0   0.9980  3.16       0.58   \n",
       "4                 11.0                  34.0   0.9978  3.51       0.56   \n",
       "\n",
       "   alcohol  quality  \n",
       "0      9.4        5  \n",
       "1      9.8        5  \n",
       "2      9.8        5  \n",
       "3      9.8        6  \n",
       "4      9.4        5  "
      ]
     },
     "execution_count": 2,
     "metadata": {},
     "output_type": "execute_result"
    }
   ],
   "source": [
    "data_raw = pd.read_csv('./winequality-red.csv',sep=';')\n",
    "data_raw.head(5)"
   ]
  },
  {
   "cell_type": "markdown",
   "id": "a985807a",
   "metadata": {},
   "source": [
    "The length of the entire dataset is a joke in comparison to most datasets, therefore we can use the whole dataset easily here."
   ]
  },
  {
   "cell_type": "code",
   "execution_count": 3,
   "id": "8d6005c2",
   "metadata": {},
   "outputs": [
    {
     "name": "stdout",
     "output_type": "stream",
     "text": [
      "1599\n"
     ]
    }
   ],
   "source": [
    "print(len(data_raw))"
   ]
  },
  {
   "cell_type": "markdown",
   "id": "3d117820",
   "metadata": {},
   "source": [
    "The input dimensionality for the network is of size 11 and contains the following wine-related qualities:"
   ]
  },
  {
   "cell_type": "code",
   "execution_count": 4,
   "id": "56d861ca",
   "metadata": {},
   "outputs": [
    {
     "name": "stdout",
     "output_type": "stream",
     "text": [
      "['fixed acidity', 'volatile acidity', 'citric acid', 'residual sugar', 'chlorides', 'free sulfur dioxide', 'total sulfur dioxide', 'density', 'pH', 'sulphates', 'alcohol']\n"
     ]
    }
   ],
   "source": [
    "print(list(data_raw.keys())[:-1])"
   ]
  },
  {
   "cell_type": "markdown",
   "id": "09ab9e1f",
   "metadata": {},
   "source": [
    "This is a classification task where the label is the quality of the wine.\n",
    "Possible labels here are:"
   ]
  },
  {
   "cell_type": "code",
   "execution_count": 5,
   "id": "2a3774f9",
   "metadata": {},
   "outputs": [
    {
     "name": "stdout",
     "output_type": "stream",
     "text": [
      "Possible labels for classification are: {3, 4, 5, 6, 7, 8}\n"
     ]
    }
   ],
   "source": [
    "print('Possible labels for classification are:',str(set(list(data_raw['quality']))))"
   ]
  },
  {
   "cell_type": "markdown",
   "id": "1e881858",
   "metadata": {},
   "source": [
    "### 1.2 Tensorflow dataset and pipeline\n",
    "Now that we know what we are dealing with, we can load the data into a Tensorflow dataset and then preprocess it.\n",
    "We will need to split the dataset into training, test and validation and also convert it into a supervised form with a tuple of data and label.  \n",
    "Additionally we want to normalize the data and to make the label a binary one as given in the task."
   ]
  },
  {
   "cell_type": "code",
   "execution_count": 6,
   "id": "c0fc0b34",
   "metadata": {},
   "outputs": [
    {
     "name": "stdout",
     "output_type": "stream",
     "text": [
      "tf.Tensor(\n",
      "[ 7.4     0.7     0.      1.9     0.076  11.     34.      0.9978  3.51\n",
      "  0.56    9.4     5.    ], shape=(12,), dtype=float64)\n"
     ]
    }
   ],
   "source": [
    "data = tf.data.Dataset.from_tensor_slices(data_raw.values)\n",
    "for element in data.take(1):\n",
    "    print(element)"
   ]
  },
  {
   "cell_type": "markdown",
   "id": "85c1895c",
   "metadata": {},
   "source": [
    "We then split the dataset into appropriate 60% training, 20% test and 20% validation.  \n",
    "For this we shuffle the data and then take slices out of it."
   ]
  },
  {
   "cell_type": "code",
   "execution_count": 7,
   "id": "67e859be",
   "metadata": {},
   "outputs": [],
   "source": [
    "data = data.shuffle(len(data))"
   ]
  },
  {
   "cell_type": "code",
   "execution_count": 8,
   "id": "7be7d2c8",
   "metadata": {},
   "outputs": [],
   "source": [
    "def split_dataset(dataset,train_size=0.6,test_size=0.2,valid_size=0.2):\n",
    "    '''Splits a given dataset into training, test and validation subsets.'''\n",
    "    train_size = int(len(dataset)*train_size)\n",
    "    test_size = int(len(dataset)*test_size)\n",
    "    valid_size = int(len(dataset)*valid_size)\n",
    "    \n",
    "    '''Due to integer rounding the size may (only) be less than the dataset'''\n",
    "    while sum([train_size,test_size,valid_size]) != len(dataset):\n",
    "        train_size += 1 # Increase train size by one if sum is not equal to length\n",
    "        \n",
    "    train = dataset.take(train_size)\n",
    "    test = dataset.skip(train_size).take(test_size)\n",
    "    valid = dataset.skip(train_size).skip(test_size)\n",
    "    \n",
    "    return train, test, valid"
   ]
  },
  {
   "cell_type": "code",
   "execution_count": 9,
   "id": "79c287a1",
   "metadata": {},
   "outputs": [],
   "source": [
    "data_train, data_test, data_valid = split_dataset(data)"
   ]
  },
  {
   "cell_type": "code",
   "execution_count": 10,
   "id": "11c32ae7",
   "metadata": {},
   "outputs": [
    {
     "name": "stdout",
     "output_type": "stream",
     "text": [
      "Training dataset is of size:  961\n",
      "Test dataset is of size:  319\n",
      "Validation dataset is of size:  319\n"
     ]
    }
   ],
   "source": [
    "print('Training dataset is of size: ',len(data_train))\n",
    "print('Test dataset is of size: ',len(data_test))\n",
    "print('Validation dataset is of size: ',len(data_valid))"
   ]
  },
  {
   "cell_type": "markdown",
   "id": "b9ac5dc9",
   "metadata": {},
   "source": [
    "We calculate the median wine quality and use it to write a function to make the targets binary."
   ]
  },
  {
   "cell_type": "code",
   "execution_count": 11,
   "id": "8e128a4e",
   "metadata": {},
   "outputs": [
    {
     "name": "stdout",
     "output_type": "stream",
     "text": [
      "6.0\n"
     ]
    }
   ],
   "source": [
    "quality_threshold = np.median(data_raw['quality'])\n",
    "print(quality_threshold)"
   ]
  },
  {
   "cell_type": "code",
   "execution_count": 12,
   "id": "cc06a146",
   "metadata": {},
   "outputs": [],
   "source": [
    "def make_binary(target):\n",
    "    '''Classifies wine with greater or equal to median quality as \\\"good\\\" wine, meaning 1=True\"'''\n",
    "    return int(target>=quality_threshold)"
   ]
  },
  {
   "cell_type": "markdown",
   "id": "68c47974",
   "metadata": {},
   "source": [
    "Afterwards we write the function to preprocess the dataset into the desired shape and value range."
   ]
  },
  {
   "cell_type": "code",
   "execution_count": 13,
   "id": "a80ab84c",
   "metadata": {},
   "outputs": [],
   "source": [
    "def preprocess_wine_dataset(data_split):\n",
    "    '''We split the data into input and label'''\n",
    "    data_split = data_split.map(lambda data: (data[:-1],data[len(data)-1:]))\n",
    "    '''We make the targets binary with the defined function'''\n",
    "    data_split = data_split.map(lambda data, label: (data,make_binary(label)))\n",
    "    '''We take a batch size of 16 and prefetch 10 elements, shuffle is not necessary since it has been performed before'''\n",
    "    data_split = data_split.batch(16)\n",
    "    data_split = data_split.prefetch(10)\n",
    "    return data_split"
   ]
  },
  {
   "cell_type": "code",
   "execution_count": 14,
   "id": "a598f71a",
   "metadata": {},
   "outputs": [],
   "source": [
    "data_train = data_train.apply(preprocess_wine_dataset)\n",
    "data_test = data_test.apply(preprocess_wine_dataset)\n",
    "data_valid = data_valid.apply(preprocess_wine_dataset)"
   ]
  },
  {
   "cell_type": "markdown",
   "id": "a960687c",
   "metadata": {},
   "source": [
    "We then print out the first element in the first batch to check our preprocessing.  \n",
    "The input data should contain normalized floats of shape (11,) and the output a scalar with a zero or one.  "
   ]
  },
  {
   "cell_type": "code",
   "execution_count": 15,
   "id": "9527fa15",
   "metadata": {},
   "outputs": [
    {
     "name": "stdout",
     "output_type": "stream",
     "text": [
      "(<tf.Tensor: shape=(11,), dtype=float64, numpy=\n",
      "array([8.1000e+00, 5.3000e-01, 2.2000e-01, 2.2000e+00, 7.8000e-02,\n",
      "       3.3000e+01, 8.9000e+01, 9.9678e-01, 3.2600e+00, 4.6000e-01,\n",
      "       9.6000e+00])>, <tf.Tensor: shape=(1,), dtype=int32, numpy=array([1])>)\n"
     ]
    }
   ],
   "source": [
    "for element in data_train.take(1):\n",
    "    print((element[0][0], element[1][0]))"
   ]
  },
  {
   "cell_type": "markdown",
   "id": "53e7f3cd",
   "metadata": {},
   "source": [
    "---\n",
    "## 2 Model\n",
    "We then define our Layer class and model class by mostly copying the previous exercise.  \n",
    "We changed the sizes of the model layers to fit the task and to enable dynamic downscaling of our model size for the two hidden layers."
   ]
  },
  {
   "cell_type": "code",
   "execution_count": 16,
   "id": "70703970",
   "metadata": {},
   "outputs": [],
   "source": [
    "class DenseLayer(tf.keras.layers.Layer):\n",
    "    '''A fully-connected layer with unit weights and biases plus activation function.'''\n",
    "    def __init__(self, units=8, activation=tf.nn.sigmoid):\n",
    "        '''Initializes the Layer with a size and an activation.'''\n",
    "        super(DenseLayer, self).__init__()\n",
    "        self.units = units\n",
    "        self.activation = activation\n",
    "\n",
    "    def build(self, input_shape):\n",
    "        '''Builds the trainable weights and biases for the Layer'''\n",
    "        self.w = self.add_weight(shape=(input_shape[-1], self.units),\n",
    "                               initializer='random_normal',\n",
    "                               trainable=True)\n",
    "        self.b = self.add_weight(shape=(self.units,),\n",
    "                               initializer='random_normal',\n",
    "                               trainable=True)\n",
    "    def call(self, inputs):\n",
    "        '''Applies an input to the layer and returns the output'''\n",
    "        x = tf.matmul(inputs, self.w) + self.b\n",
    "        x = self.activation(x)\n",
    "        return x"
   ]
  },
  {
   "cell_type": "code",
   "execution_count": 17,
   "id": "5f5a14c3",
   "metadata": {},
   "outputs": [],
   "source": [
    "class WineClassifierModel(tf.keras.Model):\n",
    "    '''Our wine-classifier model with adjustable size.'''\n",
    "    def __init__(self, size_factor=0.01):\n",
    "        '''Initializes the model with a given down/upscaling of the standard size from the last task.'''\n",
    "        \n",
    "        super(WineClassifierModel, self).__init__()\n",
    "        \n",
    "        self.input_layer = DenseLayer(units=11, activation=tf.nn.sigmoid) # The input has 11 dimensions for this task\n",
    "        self.hidden_layer1 = DenseLayer(units=int(256*size_factor), activation=tf.nn.sigmoid) # We scale the former size by a factor\n",
    "        self.hidden_layer2 = DenseLayer(units=int(256*size_factor), activation=tf.nn.sigmoid)\n",
    "        self.output_layer = DenseLayer(units=1, activation=tf.nn.sigmoid) # The output layer now consists of a single unit with sigmoid activation\n",
    "\n",
    "    def call(self, inputs):\n",
    "        '''The model\\'s call method for forwarding the input through the layers.'''\n",
    "        x = self.input_layer(inputs)\n",
    "        x = self.hidden_layer1(x)\n",
    "        x = self.hidden_layer2(x)\n",
    "        x = self.output_layer(x)\n",
    "        return x"
   ]
  },
  {
   "cell_type": "markdown",
   "id": "59be7c74",
   "metadata": {},
   "source": [
    "### 3 Training\n",
    "We define the necessary training functions and rewrite parts to make them more suitable for both this task and for our optimization visualization later."
   ]
  },
  {
   "cell_type": "code",
   "execution_count": 18,
   "id": "6665d83c",
   "metadata": {},
   "outputs": [],
   "source": [
    "loss_memory = {\n",
    "    'standard_model' : {'training' : [],'test' : [], 'validation' : []}, \n",
    "    'optimized_model' : {'training' : [],'test' : [], 'validation' : []}\n",
    "}\n",
    "accuracy_memory = {\n",
    "    'standard_model' : {'training' : [],'test' : [], 'validation' : []}, \n",
    "    'optimized_model' : {'training' : [],'test' : [], 'validation' : []}\n",
    "}"
   ]
  },
  {
   "cell_type": "code",
   "execution_count": 19,
   "id": "3b922365",
   "metadata": {},
   "outputs": [],
   "source": [
    "def get_loss_and_accuracy(model, data_split, loss_function):\n",
    "    '''Returns the loss and accuracy of the model on a given split of the data.'''\n",
    "    accuracy_aggregator = []\n",
    "    loss_aggregator = []\n",
    "    \n",
    "    for (input, target) in data_split:\n",
    "        prediction = model(input)\n",
    "        sample_loss = loss_function(target, prediction)\n",
    "        sample_accuracy =  target == np.round(prediction,decimals=0) # Since this is not one-hot encoded, we simply compare target and prediction\n",
    "        sample_accuracy = np.mean(sample_accuracy)\n",
    "        loss_aggregator.append(sample_loss.numpy())\n",
    "        accuracy_aggregator.append(np.mean(sample_accuracy))\n",
    "        \n",
    "    loss = tf.reduce_mean(loss_aggregator)\n",
    "    accuracy = tf.reduce_mean(accuracy_aggregator)\n",
    "    return loss, accuracy"
   ]
  },
  {
   "cell_type": "code",
   "execution_count": 20,
   "id": "bf9f30f7",
   "metadata": {},
   "outputs": [],
   "source": [
    "def performance_test(model, data_split, name, loss_function, model_name, loss_memory, accuracy_memory):\n",
    "    '''Evaluation of loss and accuracy of a model on a data split.'''\n",
    "    loss, accuracy = get_loss_and_accuracy(model, data_split, loss_function)\n",
    "    loss_memory[model_name][name].append(loss.numpy())\n",
    "    accuracy_memory[model_name][name].append(accuracy.numpy())"
   ]
  },
  {
   "cell_type": "code",
   "execution_count": 21,
   "id": "cc28b54d",
   "metadata": {},
   "outputs": [],
   "source": [
    "def train_step(model, input, target, loss_function, optimizer, model_name, loss_memory, accuracy_memory):\n",
    "    with tf.GradientTape() as tape:\n",
    "        prediction = model(input)\n",
    "        loss = loss_function(target, prediction)\n",
    "        gradients = tape.gradient(loss, model.trainable_variables)\n",
    "        optimizer.apply_gradients(zip(gradients, model.trainable_variables))"
   ]
  },
  {
   "cell_type": "code",
   "execution_count": 22,
   "id": "1222578a",
   "metadata": {},
   "outputs": [],
   "source": [
    "def train_model(model, dataset, optimizer, loss_function, num_epochs, model_name, loss_memory, accuracy_memory):\n",
    "    \n",
    "    '''Initial performance of the model without training'''\n",
    "    for data, name in zip(list(dataset.values()),list(dataset.keys())):\n",
    "        performance_test(model, data, name, loss_function, model_name, loss_memory, accuracy_memory)\n",
    "    \n",
    "    for epoch in range(num_epochs):\n",
    "        for input,target in tqdm(dataset['training'],desc='Epoch '+str(epoch+1)):\n",
    "            train_step(model, input, target, loss_function, optimizer, model_name, loss_memory, accuracy_memory)\n",
    "        for data, name in zip(list(dataset.values()),list(dataset.keys())):\n",
    "            performance_test(model, data, name, loss_function, model_name, loss_memory, accuracy_memory)"
   ]
  },
  {
   "cell_type": "code",
   "execution_count": 23,
   "id": "8be7d209",
   "metadata": {},
   "outputs": [],
   "source": [
    "def is_chance_level(accuracy,labels):\n",
    "    '''Returns true if the accuracy has been almost chance level for n labels with an allowed variance of 5%'''\n",
    "    return abs(accuracy-1/labels) <= 0.05"
   ]
  },
  {
   "cell_type": "code",
   "execution_count": 24,
   "id": "448d04e2",
   "metadata": {},
   "outputs": [],
   "source": [
    "def find_standard_model(dataset, size_factor, num_epochs, loss_function, optimizer, loss_memory, accuracy_memory, model_name='standard_model'):\n",
    "    standard_model = WineClassifierModel(size_factor=size_factor)\n",
    "    train_model(standard_model, dataset, optimizer, loss_function, num_epochs, model_name, loss_memory, accuracy_memory)\n",
    "    '''If the model is within chance level for the validation set, make the model bigger'''\n",
    "    if is_chance_level(float(accuracy_memory[model_name]['training'][len(accuracy_memory[model_name]['validation'])-1]),2):\n",
    "        size_factor += size_factor_increment\n",
    "        print(float(accuracy_memory[model_name]['training'][len(accuracy_memory[model_name]['validation'])-1]))\n",
    "        loss_memory['standard_model'] = {'training' : [],'test' : [], 'validation' : []}\n",
    "        accuracy_memory['standard_model'] = {'training' : [],'test' : [], 'validation' : []}\n",
    "        return find_standard_model(dataset, size_factor, num_epochs, loss_function, optimizer, loss_memory, accuracy_memory, model_name='standard_model')\n",
    "    else:\n",
    "        return standard_model, size_factor"
   ]
  },
  {
   "cell_type": "code",
   "execution_count": 25,
   "id": "8f4ade57",
   "metadata": {},
   "outputs": [],
   "source": [
    "tf.keras.backend.clear_session()\n",
    "\n",
    "'''Hyperparameters'''\n",
    "num_epochs = 10\n",
    "learning_rate = 0.001\n",
    "\n",
    "'''Loss function'''\n",
    "binary_cross_entropy_loss = tf.keras.losses.BinaryCrossentropy()\n",
    "\n",
    "'''Optimizer for standard model'''\n",
    "optimizer = tf.keras.optimizers.SGD(learning_rate)\n",
    "\n",
    "'''Start with 2% model size (5 layers) and increase by 1% if model is still chance level'''\n",
    "size_factor = 0.25\n",
    "size_factor_increment = 0.01"
   ]
  },
  {
   "cell_type": "code",
   "execution_count": 26,
   "id": "98c22042",
   "metadata": {
    "scrolled": true
   },
   "outputs": [
    {
     "name": "stderr",
     "output_type": "stream",
     "text": [
      "Epoch 1: 100%|████████████████████████████████████████████████████████████████████████| 61/61 [00:00<00:00, 155.16it/s]\n",
      "Epoch 2: 100%|████████████████████████████████████████████████████████████████████████| 61/61 [00:00<00:00, 161.40it/s]\n",
      "Epoch 3: 100%|████████████████████████████████████████████████████████████████████████| 61/61 [00:00<00:00, 162.25it/s]\n",
      "Epoch 4: 100%|████████████████████████████████████████████████████████████████████████| 61/61 [00:00<00:00, 160.34it/s]\n",
      "Epoch 5: 100%|████████████████████████████████████████████████████████████████████████| 61/61 [00:00<00:00, 163.98it/s]\n",
      "Epoch 6: 100%|████████████████████████████████████████████████████████████████████████| 61/61 [00:00<00:00, 162.03it/s]\n",
      "Epoch 7: 100%|████████████████████████████████████████████████████████████████████████| 61/61 [00:00<00:00, 157.24it/s]\n",
      "Epoch 8: 100%|████████████████████████████████████████████████████████████████████████| 61/61 [00:00<00:00, 162.46it/s]\n",
      "Epoch 9: 100%|████████████████████████████████████████████████████████████████████████| 61/61 [00:00<00:00, 159.72it/s]\n",
      "Epoch 10: 100%|███████████████████████████████████████████████████████████████████████| 61/61 [00:00<00:00, 162.46it/s]\n"
     ]
    },
    {
     "name": "stdout",
     "output_type": "stream",
     "text": [
      "0.5409836065573771\n"
     ]
    },
    {
     "name": "stderr",
     "output_type": "stream",
     "text": [
      "Epoch 1: 100%|████████████████████████████████████████████████████████████████████████| 61/61 [00:00<00:00, 160.76it/s]\n",
      "Epoch 2: 100%|████████████████████████████████████████████████████████████████████████| 61/61 [00:00<00:00, 162.89it/s]\n",
      "Epoch 3: 100%|████████████████████████████████████████████████████████████████████████| 61/61 [00:00<00:00, 157.17it/s]\n",
      "Epoch 4: 100%|████████████████████████████████████████████████████████████████████████| 61/61 [00:00<00:00, 160.55it/s]\n",
      "Epoch 5: 100%|████████████████████████████████████████████████████████████████████████| 61/61 [00:00<00:00, 162.89it/s]\n",
      "Epoch 6: 100%|████████████████████████████████████████████████████████████████████████| 61/61 [00:00<00:00, 160.99it/s]\n",
      "Epoch 7: 100%|████████████████████████████████████████████████████████████████████████| 61/61 [00:00<00:00, 162.89it/s]\n",
      "Epoch 8: 100%|████████████████████████████████████████████████████████████████████████| 61/61 [00:00<00:00, 161.82it/s]\n",
      "Epoch 9: 100%|████████████████████████████████████████████████████████████████████████| 61/61 [00:00<00:00, 161.10it/s]\n",
      "Epoch 10: 100%|███████████████████████████████████████████████████████████████████████| 61/61 [00:00<00:00, 164.20it/s]\n"
     ]
    }
   ],
   "source": [
    "'''Finding the standard model with barely better than chance performance'''\n",
    "standard_model, size_factor = find_standard_model({'training' : data_train,'test' : data_test,'validation' : data_valid},size_factor,num_epochs,binary_cross_entropy_loss,optimizer, loss_memory, accuracy_memory)"
   ]
  },
  {
   "cell_type": "markdown",
   "id": "1c6aefdc",
   "metadata": {},
   "source": [
    "The size of the standard model's two hidden layers has been set to:"
   ]
  },
  {
   "cell_type": "code",
   "execution_count": 27,
   "id": "b31ab146",
   "metadata": {},
   "outputs": [
    {
     "name": "stdout",
     "output_type": "stream",
     "text": [
      "66\n"
     ]
    }
   ],
   "source": [
    "print(int(size_factor*256))"
   ]
  },
  {
   "cell_type": "markdown",
   "id": "b28b187a",
   "metadata": {},
   "source": [
    "## 4 Fine-Tuning\n",
    "Now that we have a standard model with barely above chance performance we want to fine-tune our procedure for a better performance on a same-sized model.  \n",
    "We start by applying l2 normalization on our data in preprocessing."
   ]
  },
  {
   "cell_type": "code",
   "execution_count": 28,
   "id": "c053b3f5",
   "metadata": {},
   "outputs": [],
   "source": [
    "def optimized_preprocess_wine_dataset(data_split):\n",
    "    '''We split the data into input and label'''\n",
    "    data_split = data_split.map(lambda data: (data[:-1],data[len(data)-1:]))\n",
    "    '''We make the targets binary with the defined function'''\n",
    "    data_split = data_split.map(lambda data, label: (data,make_binary(label)))\n",
    "    '''We normalize the input to a range between 0 and 1 using l2_normalize'''\n",
    "    data_split = data_split.map(lambda data, label: (tf.math.l2_normalize(data),label))\n",
    "    '''We take a batch size of 16 and prefetch 10 elements, shuffle is not necessary since it has been performed before'''\n",
    "    data_split = data_split.batch(16)\n",
    "    data_split = data_split.prefetch(10)\n",
    "    return data_split"
   ]
  },
  {
   "cell_type": "markdown",
   "id": "40fa68fc",
   "metadata": {},
   "source": [
    "We implement a condition to stop training if the validation loss has significantly increased from the last epoch to this one."
   ]
  },
  {
   "cell_type": "code",
   "execution_count": 40,
   "id": "3ab7e41d",
   "metadata": {},
   "outputs": [],
   "source": [
    "def optimized_train_model(model, dataset, optimizer, loss_function, num_epochs, model_name, loss_memory, accuracy_memory):\n",
    "    '''ADD DOCSTRING'''\n",
    "    \n",
    "    '''Initial performance of the model without training'''\n",
    "    for data, name in zip(list(dataset.values()),list(dataset.keys())):\n",
    "        performance_test(model, data, name, loss_function, model_name, loss_memory, accuracy_memory)\n",
    "    \n",
    "    for epoch in range(num_epochs):\n",
    "        for input,target in tqdm(dataset['training'],desc='Epoch '+str(epoch+1)):\n",
    "            train_step(model, input, target, loss_function, optimizer, model_name, loss_memory, accuracy_memory)\n",
    "        for data, name in zip(list(dataset.values()),list(dataset.keys())):\n",
    "            performance_test(model, data, name, loss_function, model_name, loss_memory, accuracy_memory)\n",
    "        \n",
    "        last_valid_loss = loss_memory[model_name]['validation'][len(loss_memory[model_name]['validation'])-2:]\n",
    "        if last_valid_loss[0] - last_valid_loss[1] < -0.002:\n",
    "            return"
   ]
  },
  {
   "cell_type": "markdown",
   "id": "7e251e4c",
   "metadata": {},
   "source": [
    "We preprocess our dataset with l2-normalization."
   ]
  },
  {
   "cell_type": "code",
   "execution_count": 41,
   "id": "e813aa81",
   "metadata": {},
   "outputs": [],
   "source": [
    "data_train, data_test, data_valid = split_dataset(data)\n",
    "\n",
    "data_train = data_train.apply(optimized_preprocess_wine_dataset)\n",
    "data_test = data_test.apply(optimized_preprocess_wine_dataset)\n",
    "data_valid = data_valid.apply(optimized_preprocess_wine_dataset)"
   ]
  },
  {
   "cell_type": "markdown",
   "id": "4d00dbef",
   "metadata": {},
   "source": [
    "We use Adam as an optimizer and define our optimized model."
   ]
  },
  {
   "cell_type": "code",
   "execution_count": 42,
   "id": "2c01fd1a",
   "metadata": {},
   "outputs": [],
   "source": [
    "optimized_optimizer = tf.keras.optimizers.Adam(learning_rate)\n",
    "optimized_model = WineClassifierModel(size_factor=size_factor)"
   ]
  },
  {
   "cell_type": "code",
   "execution_count": 43,
   "id": "d86282c0",
   "metadata": {},
   "outputs": [
    {
     "name": "stderr",
     "output_type": "stream",
     "text": [
      "Epoch 1: 100%|████████████████████████████████████████████████████████████████████████| 61/61 [00:00<00:00, 137.43it/s]\n",
      "Epoch 2: 100%|████████████████████████████████████████████████████████████████████████| 61/61 [00:00<00:00, 143.18it/s]\n",
      "Epoch 3: 100%|████████████████████████████████████████████████████████████████████████| 61/61 [00:00<00:00, 138.91it/s]\n",
      "Epoch 4: 100%|████████████████████████████████████████████████████████████████████████| 61/61 [00:00<00:00, 140.94it/s]\n"
     ]
    }
   ],
   "source": [
    "optimized_train_model(optimized_model, {'training' : data_train,'test' : data_test,'validation' : data_valid}, optimized_optimizer, binary_cross_entropy_loss, num_epochs, 'optimized_model', loss_memory, accuracy_memory)"
   ]
  },
  {
   "cell_type": "markdown",
   "id": "531fd80c",
   "metadata": {},
   "source": [
    "## 5 Visualization"
   ]
  },
  {
   "cell_type": "code",
   "execution_count": 33,
   "id": "b72726c1",
   "metadata": {},
   "outputs": [],
   "source": [
    "def plot_model_performance(model_name):\n",
    "    fig, ax = plt.subplots(1,2,figsize=(15, 4))\n",
    "    line1, = ax[0].plot(loss_memory[model_name]['training'])\n",
    "    line2, = ax[0].plot(loss_memory[model_name]['validation'])\n",
    "    line3, = ax[0].plot(loss_memory[model_name]['test'])\n",
    "    line4, = ax[1].plot(accuracy_memory[model_name]['training'])\n",
    "    line5, = ax[1].plot(accuracy_memory[model_name]['validation'])\n",
    "    line6, = ax[1].plot(accuracy_memory[model_name]['test'])\n",
    "    ax[0].set_xlabel(\"Training epoch\")\n",
    "    ax[0].set_ylabel(\"Loss\")\n",
    "    ax[1].set_xlabel(\"Training epoch\")\n",
    "    ax[1].set_ylabel(\"Accuracy\")\n",
    "    ax[0].legend((line1,line2,line3),(\"training\",\"validation\",\"test\"))\n",
    "    ax[1].legend((line4,line5,line6),(\"training\",\"validation\",\"test\"))\n",
    "    plt.show()"
   ]
  },
  {
   "cell_type": "code",
   "execution_count": 34,
   "id": "3dbcfb0e",
   "metadata": {},
   "outputs": [
    {
     "data": {
      "image/png": "[encoded data removed]",
      "text/plain": [
       "<Figure size 1080x288 with 2 Axes>"
      ]
     },
     "metadata": {
      "needs_background": "light"
     },
     "output_type": "display_data"
    }
   ],
   "source": [
    "plot_model_performance('standard_model')"
   ]
  },
  {
   "cell_type": "code",
   "execution_count": 44,
   "id": "416f8d2c",
   "metadata": {},
   "outputs": [
    {
     "data": {
      "image/png": "[encoded data removed]",
      "text/plain": [
       "<Figure size 1080x288 with 2 Axes>"
      ]
     },
     "metadata": {
      "needs_background": "light"
     },
     "output_type": "display_data"
    }
   ],
   "source": [
    "plot_model_performance('optimized_model')"
   ]
  },
  {
   "cell_type": "markdown",
   "id": "28812e7a",
   "metadata": {},
   "source": [
    "The final accuracy measures on the test data are printed out here:"
   ]
  },
  {
   "cell_type": "code",
   "execution_count": 50,
   "id": "a42dbba3",
   "metadata": {},
   "outputs": [
    {
     "data": {
      "text/html": [
       "<div>\n",
       "<style scoped>\n",
       "    .dataframe tbody tr th:only-of-type {\n",
       "        vertical-align: middle;\n",
       "    }\n",
       "\n",
       "    .dataframe tbody tr th {\n",
       "        vertical-align: top;\n",
       "    }\n",
       "\n",
       "    .dataframe thead th {\n",
       "        text-align: right;\n",
       "    }\n",
       "</style>\n",
       "<table border=\"1\" class=\"dataframe\">\n",
       "  <thead>\n",
       "    <tr style=\"text-align: right;\">\n",
       "      <th></th>\n",
       "      <th>Standard model</th>\n",
       "      <th>Optimized model</th>\n",
       "    </tr>\n",
       "  </thead>\n",
       "  <tbody>\n",
       "    <tr>\n",
       "      <th>Final Accuracy</th>\n",
       "      <td>0.548333</td>\n",
       "      <td>0.579583</td>\n",
       "    </tr>\n",
       "  </tbody>\n",
       "</table>\n",
       "</div>"
      ],
      "text/plain": [
       "                Standard model  Optimized model\n",
       "Final Accuracy        0.548333         0.579583"
      ]
     },
     "execution_count": 50,
     "metadata": {},
     "output_type": "execute_result"
    }
   ],
   "source": [
    "pd.DataFrame([[accuracy_memory['standard_model']['test'][-1],accuracy_memory['optimized_model']['test'][-1]]],columns=['Standard model','Optimized model'],index=['Final Accuracy'])"
   ]
  },
  {
   "cell_type": "code",
   "execution_count": null,
   "id": "696994cf",
   "metadata": {},
   "outputs": [],
   "source": []
  }
 ],
 "metadata": {
  "kernelspec": {
   "display_name": "Python 3 (ipykernel)",
   "language": "python",
   "name": "python3"
  },
  "language_info": {
   "codemirror_mode": {
    "name": "ipython",
    "version": 3
   },
   "file_extension": ".py",
   "mimetype": "text/x-python",
   "name": "python",
   "nbconvert_exporter": "python",
   "pygments_lexer": "ipython3",
   "version": "3.9.7"
  }
 },
 "nbformat": 4,
 "nbformat_minor": 5
}
