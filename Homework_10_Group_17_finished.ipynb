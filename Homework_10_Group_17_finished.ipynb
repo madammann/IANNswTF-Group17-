{
 "cells": [
  {
   "cell_type": "markdown",
   "id": "e42221f2",
   "metadata": {},
   "source": [
    "# IANNWTF - Homework 10\n",
    "(by Group 17 - Nils Niehaus, Marlon Dammann, Philipp Bauer)\n",
    "## Imports"
   ]
  },
  {
   "cell_type": "code",
   "execution_count": 112,
   "id": "33cdb34f",
   "metadata": {},
   "outputs": [],
   "source": [
    "import os\n",
    "import re\n",
    "import numpy as np\n",
    "\n",
    "import tensorflow as tf\n",
    "import tensorflow_datasets as tfds\n",
    "from tensorflow.keras import layers\n",
    "from tensorflow_text import RegexSplitter\n",
    "\n",
    "from collections import Counter\n",
    "from tqdm import tqdm\n",
    "\n",
    "import matplotlib.pyplot as plt\n",
    "from scipy.spatial.distance import cosine as CosineDistance"
   ]
  },
  {
   "cell_type": "markdown",
   "id": "d2a634e6",
   "metadata": {},
   "source": [
    "## Dataset"
   ]
  },
  {
   "cell_type": "code",
   "execution_count": 2,
   "id": "d0ed24d1",
   "metadata": {},
   "outputs": [
    {
     "data": {
      "text/plain": [
       "'The First Book of Moses:  Called Genesis\\n\\n\\n1:1 In the beginning God created the heaven and the earth'"
      ]
     },
     "execution_count": 2,
     "metadata": {},
     "output_type": "execute_result"
    }
   ],
   "source": [
    "try:\n",
    "    import google.colab\n",
    "    from google.colab import drive\n",
    "    os.chdir('drive/MyDrive')\n",
    "    with open('./bible.txt','r') as file:\n",
    "        raw_text = file.read()\n",
    "except:\n",
    "    with open('./bible.txt','r') as file:\n",
    "        raw_text = file.read()\n",
    "raw_text[0:100]"
   ]
  },
  {
   "cell_type": "markdown",
   "id": "4e99e8c2",
   "metadata": {},
   "source": [
    "In the following we will use only regex modifications and string class methods since the bible is, compared to other data, relatively easy to preprocess."
   ]
  },
  {
   "cell_type": "markdown",
   "id": "d8819a4b",
   "metadata": {},
   "source": [
    "## Word Embeddings\n",
    "### Preprocessing"
   ]
  },
  {
   "cell_type": "code",
   "execution_count": 3,
   "id": "add89f56",
   "metadata": {},
   "outputs": [],
   "source": [
    "preprocessed_text = raw_text.lower()\n",
    "preprocessed_text = re.sub(r'(\\n)|([0123456789:;,\\.?!\\)\\(\\\"\\']+)',\"\",preprocessed_text) # Replaces all unusual characters with a space"
   ]
  },
  {
   "cell_type": "code",
   "execution_count": 4,
   "id": "c18c35f0",
   "metadata": {},
   "outputs": [
    {
     "data": {
      "text/plain": [
       "<tf.Tensor: shape=(10,), dtype=string, numpy=\n",
       "array([b'the', b'first', b'book', b'of', b'moses', b'called', b'genesis',\n",
       "       b'in', b'the', b'beginning'], dtype=object)>"
      ]
     },
     "execution_count": 4,
     "metadata": {},
     "output_type": "execute_result"
    }
   ],
   "source": [
    "text_splitter = RegexSplitter(r' ')\n",
    "word_split = text_splitter.split(preprocessed_text)\n",
    "word_split[0][:10]"
   ]
  },
  {
   "cell_type": "code",
   "execution_count": 5,
   "id": "3437a228",
   "metadata": {},
   "outputs": [],
   "source": [
    "def get_n_frequent(n,word_split):\n",
    "    c = Counter(word_split)\n",
    "    return [word for word,count in c.most_common(n)], [count for word,count in c.most_common(n)]"
   ]
  },
  {
   "cell_type": "code",
   "execution_count": 6,
   "id": "4710b30d",
   "metadata": {},
   "outputs": [
    {
     "name": "stdout",
     "output_type": "stream",
     "text": [
      "Selected the 10000 most common words.\n",
      "[b'the', b'and', b'of', b'to', b'in', b'that', b'he', b'shall', b'i', b'for']\n",
      "[0.07510630543068886, 0.06263178498629841, 0.04165822972772311, 0.01626236855249126, 0.015378177351206146, 0.015239136597416271, 0.012775550425896677, 0.011533633013404609, 0.011112461021342081, 0.010947771973163784]\n"
     ]
    }
   ],
   "source": [
    "subset = 10000\n",
    "tokens, frequencies = get_n_frequent(subset,word_split[0].numpy())\n",
    "frequencies = [freq/int(word_split[0].shape[0]) for freq in frequencies]\n",
    "print('Selected the',len(tokens),'most common words.')\n",
    "print(tokens[:10])\n",
    "print(frequencies[:10])"
   ]
  },
  {
   "cell_type": "code",
   "execution_count": 7,
   "id": "c36ae5c9",
   "metadata": {},
   "outputs": [],
   "source": [
    "def word2idx(words):\n",
    "    return {words[i] : i for i in range(len(words))}\n",
    "word2idx = word2idx(tokens)"
   ]
  },
  {
   "cell_type": "code",
   "execution_count": 8,
   "id": "9cd2f40b",
   "metadata": {},
   "outputs": [],
   "source": [
    "def get_word_context_pairs(tokens,word_split,window=4):\n",
    "    context_pairs = {token : [] for token in tokens}\n",
    "    for token in tqdm(tokens,desc='Retrieving context words for tokens:'):\n",
    "        context_words = []\n",
    "        for i in range(len(word_split)):\n",
    "            if word_split[i] == token:\n",
    "                for s in range(window):\n",
    "                    try:\n",
    "                        if word_split[i+s] in tokens:\n",
    "                            context_words += [word_split[i+s]]\n",
    "                    except IndexError:\n",
    "                        pass\n",
    "                    except Exception as e:\n",
    "                        print(e)\n",
    "        context_pairs[token] = list(set(context_words))\n",
    "    return context_pairs"
   ]
  },
  {
   "cell_type": "code",
   "execution_count": 9,
   "id": "2ccc2e40",
   "metadata": {},
   "outputs": [
    {
     "name": "stderr",
     "output_type": "stream",
     "text": [
      "Retrieving context words for tokens:: 100%|██████████████████████████████████████| 10000/10000 [09:41<00:00, 17.19it/s]\n"
     ]
    }
   ],
   "source": [
    "context_pairs = get_word_context_pairs(tokens,word_split[0].numpy())"
   ]
  },
  {
   "cell_type": "code",
   "execution_count": 10,
   "id": "5189aa2b",
   "metadata": {},
   "outputs": [],
   "source": [
    "target_pairs = [[(token,target) for target in context_pairs[token]] for token in list(context_pairs.keys())]"
   ]
  },
  {
   "cell_type": "code",
   "execution_count": 11,
   "id": "321682c1",
   "metadata": {},
   "outputs": [],
   "source": [
    "target_pairs = [pair for sublst in target_pairs for pair in sublst]"
   ]
  },
  {
   "cell_type": "code",
   "execution_count": 12,
   "id": "48e08e98",
   "metadata": {},
   "outputs": [],
   "source": [
    "target_pairs = [(word2idx[a],word2idx[b]) for a,b in target_pairs]"
   ]
  },
  {
   "cell_type": "code",
   "execution_count": 13,
   "id": "1c8ccc7d",
   "metadata": {},
   "outputs": [],
   "source": [
    "data_raw = tf.data.Dataset.from_tensor_slices(target_pairs)"
   ]
  },
  {
   "cell_type": "code",
   "execution_count": 31,
   "id": "6e3cd3e8",
   "metadata": {},
   "outputs": [],
   "source": [
    "def preprocess_dataset(data):\n",
    "    data = data.map(lambda datum: (datum[0],datum[1]))\n",
    "    '''We shuffle, take a batch size of 64 and prefetch 20 elements.'''\n",
    "    data = data.shuffle(10000000)\n",
    "    data = data.batch(64)\n",
    "    data = data.map(lambda a, b: (a,tf.reshape(b,(-1,1))))\n",
    "    data = data.prefetch(20)\n",
    "    return data"
   ]
  },
  {
   "cell_type": "code",
   "execution_count": 154,
   "id": "a545e09d",
   "metadata": {},
   "outputs": [],
   "source": [
    "dataset = data_raw.apply(preprocess_dataset)"
   ]
  },
  {
   "cell_type": "markdown",
   "id": "3c14b947",
   "metadata": {},
   "source": [
    "### Model"
   ]
  },
  {
   "cell_type": "code",
   "execution_count": 155,
   "id": "7a88918f",
   "metadata": {},
   "outputs": [],
   "source": [
    "class SkipGram(tf.keras.layers.Layer):\n",
    "    def __init__(self, vocab_size=10000, embedding_size=64, activation=tf.nn.softmax,optimizer=tf.keras.optimizers.Adam(0.001)):\n",
    "        super(SkipGram, self).__init__()\n",
    "        \n",
    "        self.optimizer = optimizer\n",
    "        self.vocab = vocab_size\n",
    "        self.embedding_size = embedding_size\n",
    "        self.activation = activation\n",
    "        self.build()\n",
    "\n",
    "    def build(self,input_shapes=None):\n",
    "        self.w = tf.Variable(tf.random.normal([self.vocab,self.embedding_size]))\n",
    "        self.b = tf.Variable(tf.zeros([self.vocab]))\n",
    "        self.embedding = tf.Variable(tf.random.uniform([self.vocab,self.embedding_size]))\n",
    "\n",
    "    def call(self, word, target):\n",
    "        embedding = tf.nn.embedding_lookup(self.embedding, word)\n",
    "        nce_loss = tf.nn.nce_loss(weights=self.w, biases=self.b, inputs=embedding, labels=target, num_sampled=64, num_classes=self.vocab)\n",
    "        \n",
    "        return tf.reduce_mean(nce_loss)"
   ]
  },
  {
   "cell_type": "markdown",
   "id": "63000420",
   "metadata": {},
   "source": [
    "### Training"
   ]
  },
  {
   "cell_type": "code",
   "execution_count": 156,
   "id": "5f3932de",
   "metadata": {},
   "outputs": [
    {
     "name": "stdout",
     "output_type": "stream",
     "text": [
      "b'holy' is part of subset: True\n",
      "b'god' is part of subset: True\n",
      "b'wine' is part of subset: True\n",
      "b'angel' is part of subset: True\n",
      "b'devil' is part of subset: True\n",
      "b'sin' is part of subset: True\n",
      "b'commandments' is part of subset: True\n"
     ]
    }
   ],
   "source": [
    "'''Trace'''\n",
    "epoch_loss = {}\n",
    "test_words = [b'holy',b'god',b'wine',b'angel',b'devil',b'sin',b'commandments']\n",
    "for word in test_words:\n",
    "    print(f'{word} is part of subset: {word in tokens}')\n",
    "\n",
    "'''Hyperparameters'''\n",
    "epochs = 10\n",
    "learning_rate = 0.001\n",
    "\n",
    "'''Model'''\n",
    "model = SkipGram(optimizer=tf.keras.optimizers.Adam(learning_rate))"
   ]
  },
  {
   "cell_type": "code",
   "execution_count": 162,
   "id": "3bf777c9",
   "metadata": {},
   "outputs": [],
   "source": [
    "def nearest_words_print(model):\n",
    "    global test_words\n",
    "    global word2idx\n",
    "    embedding = model.embedding.numpy()\n",
    "    results = []\n",
    "    for test_word in test_words:\n",
    "        idx = word2idx[test_word]\n",
    "        distances = []\n",
    "        for i in range(len(embedding)):\n",
    "            if idx != i:\n",
    "                distances += [CosineDistance(embedding[i], embedding[idx])]\n",
    "        closest = np.argmin(distances)\n",
    "        results += [{idx : word for word, idx in word2idx.items()}[closest]]\n",
    "    print('############################################################')\n",
    "    for i in range(len(test_words)):\n",
    "        print(f'Closest target for word: \\'{test_words[i].decode(\"utf-8\")}\\' was \\'{results[i].decode(\"utf-8\")}\\'.')\n",
    "    print('############################################################')"
   ]
  },
  {
   "cell_type": "code",
   "execution_count": 163,
   "id": "c9f13baa",
   "metadata": {},
   "outputs": [],
   "source": [
    "def training_loop(dataset,model,epochs):\n",
    "    global epoch_loss\n",
    "    for i in range(epochs):\n",
    "        epoch_loss[i] = []\n",
    "        for datum in tqdm(dataset,desc='Current epoch: ' + str(i)):\n",
    "            train_step(datum,model,i)\n",
    "        epoch_loss[i] = np.mean(epoch_loss[i])\n",
    "        nearest_words_print(model)"
   ]
  },
  {
   "cell_type": "code",
   "execution_count": 164,
   "id": "f6bd2290",
   "metadata": {},
   "outputs": [],
   "source": [
    "def train_step(data,model,i):\n",
    "    global epoch_loss\n",
    "    with tf.GradientTape() as tape:\n",
    "        loss = model(data[0],data[1])\n",
    "        epoch_loss[i] += [loss.numpy()]\n",
    "        gradients = tape.gradient(loss, model.trainable_variables)\n",
    "        model.optimizer.apply_gradients(zip(gradients, model.trainable_variables))"
   ]
  },
  {
   "cell_type": "code",
   "execution_count": 165,
   "id": "52a57b71",
   "metadata": {},
   "outputs": [
    {
     "name": "stderr",
     "output_type": "stream",
     "text": [
      "Current epoch: 0: 100%|████████████████████████████████████████████████████████████████| 10/10 [00:03<00:00,  3.31it/s]\n"
     ]
    },
    {
     "name": "stdout",
     "output_type": "stream",
     "text": [
      "############################################################\n",
      "Closest target for word: holy was chased.\n",
      "Closest target for word: god was wert.\n",
      "Closest target for word: wine was wisdomand.\n",
      "Closest target for word: angel was yonder.\n",
      "Closest target for word: devil was rooms.\n",
      "Closest target for word: sin was freewoman.\n",
      "Closest target for word: commandments was utmost.\n",
      "############################################################\n"
     ]
    },
    {
     "name": "stderr",
     "output_type": "stream",
     "text": [
      "Current epoch: 1: 100%|████████████████████████████████████████████████████████████████| 10/10 [00:02<00:00,  3.69it/s]\n"
     ]
    },
    {
     "name": "stdout",
     "output_type": "stream",
     "text": [
      "############################################################\n",
      "Closest target for word: holy was chased.\n",
      "Closest target for word: god was wert.\n",
      "Closest target for word: wine was wisdomand.\n",
      "Closest target for word: angel was yonder.\n",
      "Closest target for word: devil was rooms.\n",
      "Closest target for word: sin was freewoman.\n",
      "Closest target for word: commandments was utmost.\n",
      "############################################################\n"
     ]
    },
    {
     "name": "stderr",
     "output_type": "stream",
     "text": [
      "Current epoch: 2: 100%|████████████████████████████████████████████████████████████████| 10/10 [00:02<00:00,  3.76it/s]\n"
     ]
    },
    {
     "name": "stdout",
     "output_type": "stream",
     "text": [
      "############################################################\n",
      "Closest target for word: holy was chased.\n",
      "Closest target for word: god was wert.\n",
      "Closest target for word: wine was wisdomand.\n",
      "Closest target for word: angel was yonder.\n",
      "Closest target for word: devil was rooms.\n",
      "Closest target for word: sin was freewoman.\n",
      "Closest target for word: commandments was utmost.\n",
      "############################################################\n"
     ]
    },
    {
     "name": "stderr",
     "output_type": "stream",
     "text": [
      "Current epoch: 3: 100%|████████████████████████████████████████████████████████████████| 10/10 [00:02<00:00,  3.88it/s]\n"
     ]
    },
    {
     "name": "stdout",
     "output_type": "stream",
     "text": [
      "############################################################\n",
      "Closest target for word: holy was chased.\n",
      "Closest target for word: god was wert.\n",
      "Closest target for word: wine was wisdomand.\n",
      "Closest target for word: angel was himself.\n",
      "Closest target for word: devil was rooms.\n",
      "Closest target for word: sin was freewoman.\n",
      "Closest target for word: commandments was utmost.\n",
      "############################################################\n"
     ]
    },
    {
     "name": "stderr",
     "output_type": "stream",
     "text": [
      "Current epoch: 4: 100%|████████████████████████████████████████████████████████████████| 10/10 [00:02<00:00,  3.76it/s]\n"
     ]
    },
    {
     "name": "stdout",
     "output_type": "stream",
     "text": [
      "############################################################\n",
      "Closest target for word: holy was chased.\n",
      "Closest target for word: god was wert.\n",
      "Closest target for word: wine was wisdomand.\n",
      "Closest target for word: angel was himself.\n",
      "Closest target for word: devil was rooms.\n",
      "Closest target for word: sin was freewoman.\n",
      "Closest target for word: commandments was utmost.\n",
      "############################################################\n"
     ]
    },
    {
     "name": "stderr",
     "output_type": "stream",
     "text": [
      "Current epoch: 5: 100%|████████████████████████████████████████████████████████████████| 10/10 [00:02<00:00,  3.73it/s]\n"
     ]
    },
    {
     "name": "stdout",
     "output_type": "stream",
     "text": [
      "############################################################\n",
      "Closest target for word: holy was chased.\n",
      "Closest target for word: god was wert.\n",
      "Closest target for word: wine was wisdomand.\n",
      "Closest target for word: angel was himself.\n",
      "Closest target for word: devil was rooms.\n",
      "Closest target for word: sin was freewoman.\n",
      "Closest target for word: commandments was utmost.\n",
      "############################################################\n"
     ]
    },
    {
     "name": "stderr",
     "output_type": "stream",
     "text": [
      "Current epoch: 6: 100%|████████████████████████████████████████████████████████████████| 10/10 [00:02<00:00,  3.83it/s]\n"
     ]
    },
    {
     "name": "stdout",
     "output_type": "stream",
     "text": [
      "############################################################\n",
      "Closest target for word: holy was chased.\n",
      "Closest target for word: god was wert.\n",
      "Closest target for word: wine was wisdomand.\n",
      "Closest target for word: angel was himself.\n",
      "Closest target for word: devil was rooms.\n",
      "Closest target for word: sin was freewoman.\n",
      "Closest target for word: commandments was utmost.\n",
      "############################################################\n"
     ]
    },
    {
     "name": "stderr",
     "output_type": "stream",
     "text": [
      "Current epoch: 7: 100%|████████████████████████████████████████████████████████████████| 10/10 [00:02<00:00,  3.88it/s]\n"
     ]
    },
    {
     "name": "stdout",
     "output_type": "stream",
     "text": [
      "############################################################\n",
      "Closest target for word: holy was chased.\n",
      "Closest target for word: god was wert.\n",
      "Closest target for word: wine was wisdomand.\n",
      "Closest target for word: angel was himself.\n",
      "Closest target for word: devil was rooms.\n",
      "Closest target for word: sin was freewoman.\n",
      "Closest target for word: commandments was utmost.\n",
      "############################################################\n"
     ]
    },
    {
     "name": "stderr",
     "output_type": "stream",
     "text": [
      "Current epoch: 8: 100%|████████████████████████████████████████████████████████████████| 10/10 [00:02<00:00,  3.72it/s]\n"
     ]
    },
    {
     "name": "stdout",
     "output_type": "stream",
     "text": [
      "############################################################\n",
      "Closest target for word: holy was chased.\n",
      "Closest target for word: god was wert.\n",
      "Closest target for word: wine was wisdomand.\n",
      "Closest target for word: angel was himself.\n",
      "Closest target for word: devil was rooms.\n",
      "Closest target for word: sin was freewoman.\n",
      "Closest target for word: commandments was utmost.\n",
      "############################################################\n"
     ]
    },
    {
     "name": "stderr",
     "output_type": "stream",
     "text": [
      "Current epoch: 9: 100%|████████████████████████████████████████████████████████████████| 10/10 [00:02<00:00,  3.90it/s]\n"
     ]
    },
    {
     "name": "stdout",
     "output_type": "stream",
     "text": [
      "############################################################\n",
      "Closest target for word: holy was chased.\n",
      "Closest target for word: god was wert.\n",
      "Closest target for word: wine was wisdomand.\n",
      "Closest target for word: angel was himself.\n",
      "Closest target for word: devil was rooms.\n",
      "Closest target for word: sin was freewoman.\n",
      "Closest target for word: commandments was utmost.\n",
      "############################################################\n"
     ]
    }
   ],
   "source": [
    "training_loop(dataset,model,epochs)"
   ]
  },
  {
   "cell_type": "code",
   "execution_count": 145,
   "id": "9b4126ff",
   "metadata": {},
   "outputs": [
    {
     "data": {
      "image/png": "[encoded data removed]",
      "text/plain": [
       "<Figure size 432x288 with 1 Axes>"
      ]
     },
     "metadata": {
      "needs_background": "light"
     },
     "output_type": "display_data"
    }
   ],
   "source": [
    "plt.plot(np.arange(0,epochs),[loss for loss in list(epoch_loss.values())])\n",
    "plt.title('Loss graph')\n",
    "plt.xlabel('Epoch')\n",
    "plt.ylabel('Loss')\n",
    "plt.show()"
   ]
  }
 ],
 "metadata": {
  "kernelspec": {
   "display_name": "Python 3 (ipykernel)",
   "language": "python",
   "name": "python3"
  },
  "language_info": {
   "codemirror_mode": {
    "name": "ipython",
    "version": 3
   },
   "file_extension": ".py",
   "mimetype": "text/x-python",
   "name": "python",
   "nbconvert_exporter": "python",
   "pygments_lexer": "ipython3",
   "version": "3.9.7"
  }
 },
 "nbformat": 4,
 "nbformat_minor": 5
}
