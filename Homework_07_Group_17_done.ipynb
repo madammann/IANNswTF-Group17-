{
  "cells": [
    {
      "cell_type": "markdown",
      "id": "4cddc259",
      "metadata": {
        "id": "4cddc259"
      },
      "source": [
        "# IANNWTF - Homework 07\n",
        "(by Group 17 - Nils Niehaus, Philipp Bauer, Marlon Dammann)"
      ]
    },
    {
      "cell_type": "code",
      "execution_count": 1,
      "id": "6f6c5043",
      "metadata": {
        "id": "6f6c5043"
      },
      "outputs": [],
      "source": [
        "import numpy as np\n",
        "import matplotlib.pyplot as plt\n",
        "import tensorflow as tf\n",
        "import tensorflow_datasets as tfds\n",
        "from tqdm import tqdm"
      ]
    },
    {
      "cell_type": "markdown",
      "id": "9f5a7942",
      "metadata": {
        "id": "9f5a7942"
      },
      "source": [
        "## 1 Data Set"
      ]
    },
    {
      "cell_type": "code",
      "source": [
        "sequence_len = 30\n",
        "num_samples = 80000"
      ],
      "metadata": {
        "id": "IJflBmH05BaG"
      },
      "id": "IJflBmH05BaG",
      "execution_count": 2,
      "outputs": []
    },
    {
      "cell_type": "code",
      "execution_count": 3,
      "id": "d084eee3",
      "metadata": {
        "id": "d084eee3"
      },
      "outputs": [],
      "source": [
        "def integration_task(seq_len, num_samples):\n",
        "  for _ in range(num_samples):\n",
        "    data = np.random.normal(size=seq_len)\n",
        "    target = True if np.sum(data) > 0 else False\n",
        "    data = np.expand_dims(data,-1)\n",
        "    target = np.expand_dims(target,-1)\n",
        "    yield data, target"
      ]
    },
    {
      "cell_type": "code",
      "source": [
        "def my_integration_task():\n",
        "  for data,target in integration_task(sequence_len, num_samples):\n",
        "    yield data,target"
      ],
      "metadata": {
        "id": "NqAV-UVUzcrT"
      },
      "id": "NqAV-UVUzcrT",
      "execution_count": 4,
      "outputs": []
    },
    {
      "cell_type": "code",
      "source": [
        "dataset = tf.data.Dataset.from_generator(my_integration_task, \n",
        "                                         output_signature=(\n",
        "                                             tf.TensorSpec(shape=(sequence_len,1), dtype = 'float32'),\n",
        "                                             tf.TensorSpec(shape=(1), dtype = 'int16')))"
      ],
      "metadata": {
        "id": "x5D7lZnB7DD4"
      },
      "id": "x5D7lZnB7DD4",
      "execution_count": 5,
      "outputs": []
    },
    {
      "cell_type": "code",
      "source": [
        "train_ds = dataset.take(int(num_samples*0.7))\n",
        "dataset = dataset.skip(int(num_samples*0.7))\n",
        "\n",
        "test_ds = dataset.take(int(num_samples*0.2))\n",
        "dataset = dataset.skip(int(num_samples*0.2))\n",
        "\n",
        "valid_ds = dataset.take(int(num_samples*0.1))\n",
        "dataset = dataset.skip(int(num_samples*0.1))"
      ],
      "metadata": {
        "id": "6dyoK7Ax8DYy"
      },
      "id": "6dyoK7Ax8DYy",
      "execution_count": 6,
      "outputs": []
    },
    {
      "cell_type": "code",
      "execution_count": 7,
      "id": "b3b104a1",
      "metadata": {
        "id": "b3b104a1"
      },
      "outputs": [],
      "source": [
        "def preprocess_dataset(dataset):\n",
        "  dataset = dataset.cache()\n",
        "  dataset = dataset.shuffle(1000)\n",
        "  dataset = dataset.batch(128)\n",
        "  dataset = dataset.prefetch(60)\n",
        "  return dataset"
      ]
    },
    {
      "cell_type": "code",
      "execution_count": 8,
      "id": "752da607",
      "metadata": {
        "id": "752da607"
      },
      "outputs": [],
      "source": [
        "train_ds = preprocess_dataset(train_ds)\n",
        "test_ds = preprocess_dataset(test_ds)\n",
        "valid_ds = preprocess_dataset(valid_ds)"
      ]
    },
    {
      "cell_type": "markdown",
      "id": "2c77b564",
      "metadata": {
        "id": "2c77b564"
      },
      "source": [
        "## 2 Model"
      ]
    },
    {
      "cell_type": "code",
      "execution_count": 9,
      "id": "1e3e79e2",
      "metadata": {
        "id": "1e3e79e2"
      },
      "outputs": [],
      "source": [
        "class LSTM_Cell(tf.keras.layers.Layer):\n",
        "    def __init__(self, units):\n",
        "        super(LSTM_Cell, self).__init__()\n",
        "        self.units = units\n",
        "        self.forget_gate = tf.keras.layers.Dense(units, activation='sigmoid', bias_initializer='ones')\n",
        "        self.input_gate = tf.keras.layers.Dense(units, activation='sigmoid')\n",
        "        self.output_gate = tf.keras.layers.Dense(units, activation='sigmoid')\n",
        "        self.cell = tf.keras.layers.Dense(units, activation='tanh')\n",
        "    \n",
        "    def call(self, x, states):\n",
        "        hidden_state = states[0]\n",
        "        cell_state = states[1]\n",
        "        xh = tf.concat([x, hidden_state], axis=1)\n",
        "\n",
        "        cell_state = tf.math.multiply(self.forget_gate(xh), cell_state) + tf.math.multiply(self.input_gate(xh), self.cell(x))\n",
        "        hidden_state = tf.math.multiply(self.output_gate(xh),tf.nn.tanh(cell_state))\n",
        "\n",
        "        return hidden_state, cell_state"
      ]
    },
    {
      "cell_type": "code",
      "execution_count": 10,
      "id": "d13b31bc",
      "metadata": {
        "id": "d13b31bc"
      },
      "outputs": [],
      "source": [
        "class LSTM_Layer(tf.keras.layers.Layer):\n",
        "    def __init__(self, cell):\n",
        "      super(LSTM_Layer, self).__init__()\n",
        "      self.cell = cell\n",
        "\n",
        "    @tf.function\n",
        "    def call(self, x, states=None):\n",
        "      batch_size = tf.shape(x)[0]\n",
        "      sequence_length = tf.shape(x)[1]\n",
        "      if not states:\n",
        "          states = self.zero_states(batch_size)\n",
        "      output_sequence = tf.TensorArray(tf.float32, size=0, dynamic_size=True)\n",
        "      for seq_idx in tf.range(sequence_length):\n",
        "        input = x[:, seq_idx]\n",
        "        states = self.cell(input, states)\n",
        "        output_sequence = output_sequence.write(seq_idx, states[0])\n",
        "      output_sequence = tf.transpose(output_sequence.stack(), perm=[1,0,2])\n",
        "      return output_sequence\n",
        "\n",
        "    def zero_states(self, batch_size):\n",
        "        return (tf.zeros((batch_size, self.cell.units)), tf.zeros((batch_size, self.cell.units)))"
      ]
    },
    {
      "cell_type": "code",
      "source": [
        "class LSTM_Model(tf.keras.Model):\n",
        "    def __init__(self):\n",
        "      super(LSTM_Model, self).__init__()\n",
        "      self.input_layer = tf.keras.layers.Dense(30, activation='sigmoid')\n",
        "      self.lstm = LSTM_Layer(LSTM_Cell(8))\n",
        "      self.dense = tf.keras.layers.Dense(3, activation='sigmoid')\n",
        "      self.output_layer = tf.keras.layers.Dense(1, activation='sigmoid')\n",
        "\n",
        "    def call(self, x):\n",
        "      x = self.input_layer(x)\n",
        "      x = self.lstm(x)\n",
        "      x = self.dense(x)\n",
        "      x = self.output_layer(x)\n",
        "      return x[:,-1,:]\n"
      ],
      "metadata": {
        "id": "-5Ukou50zGyr"
      },
      "id": "-5Ukou50zGyr",
      "execution_count": 11,
      "outputs": []
    },
    {
      "cell_type": "markdown",
      "id": "8e3799fd",
      "metadata": {
        "id": "8e3799fd"
      },
      "source": [
        "## 3 Training"
      ]
    },
    {
      "cell_type": "code",
      "execution_count": 12,
      "id": "d948e883",
      "metadata": {
        "id": "d948e883"
      },
      "outputs": [],
      "source": [
        "model_performance = {'training': {'loss' : [], 'accuracy' : []}, \n",
        "                     'test': {'loss' : [], 'accuracy' : []},\n",
        "                     'valid': {'loss' : [], 'accuracy' : []}}"
      ]
    },
    {
      "cell_type": "code",
      "execution_count": 13,
      "id": "2a9e585d",
      "metadata": {
        "id": "2a9e585d"
      },
      "outputs": [],
      "source": [
        "ds = {'training' : train_ds, 'test' : test_ds, 'valid' : valid_ds}"
      ]
    },
    {
      "cell_type": "code",
      "execution_count": 14,
      "id": "19548485",
      "metadata": {
        "id": "19548485"
      },
      "outputs": [],
      "source": [
        "def get_loss_and_accuracy(model, data_split, loss_function, mode_name):\n",
        "    '''Returns the loss and accuracy of the model on a given split of the data.'''\n",
        "    accuracy_aggregator = []\n",
        "    loss_aggregator = []\n",
        "\n",
        "    for (input, target) in tqdm(data_split,desc='Sampling Loss/Accuracy for ' + str(mode_name) + ' data'):\n",
        "        prediction = model(input)\n",
        "        sample_loss = loss_function(target, prediction)\n",
        "        sample_accuracy =  np.round(target) == np.round(prediction)\n",
        "        loss_aggregator.append(sample_loss.numpy())\n",
        "        accuracy_aggregator.append(np.mean(sample_accuracy))\n",
        "        \n",
        "    loss = tf.reduce_mean(loss_aggregator)\n",
        "    accuracy = tf.reduce_mean(accuracy_aggregator)\n",
        "    return loss, accuracy"
      ]
    },
    {
      "cell_type": "code",
      "execution_count": 15,
      "id": "56ef3105",
      "metadata": {
        "id": "56ef3105"
      },
      "outputs": [],
      "source": [
        "def performance_test(model, data_split, loss_function, model_performance, mode_name):\n",
        "    '''Evaluation of loss and accuracy of a model on a data split.'''\n",
        "    loss, accuracy = get_loss_and_accuracy(model, data_split, loss_function, mode_name)\n",
        "    model_performance[mode_name]['loss'].append(loss.numpy())\n",
        "    model_performance[mode_name]['accuracy'].append(accuracy.numpy())"
      ]
    },
    {
      "cell_type": "code",
      "execution_count": 16,
      "id": "91a9251f",
      "metadata": {
        "id": "91a9251f"
      },
      "outputs": [],
      "source": [
        "def train_step(model, input, target, loss_function, optimizer):\n",
        "    with tf.GradientTape() as tape:\n",
        "        prediction = model(input)\n",
        "        loss = loss_function(target, prediction)\n",
        "        gradients = tape.gradient(loss, model.trainable_variables)\n",
        "        optimizer.apply_gradients(zip(gradients, model.trainable_variables))"
      ]
    },
    {
      "cell_type": "code",
      "execution_count": 17,
      "id": "82fcb097",
      "metadata": {
        "id": "82fcb097"
      },
      "outputs": [],
      "source": [
        "def train_model(model, dataset, optimizer, loss_function, num_epochs, model_performance):\n",
        "    \n",
        "    '''Initial performance of the model without training'''\n",
        "    for data, name in zip(list(dataset.values()),list(dataset.keys())):\n",
        "        performance_test(model, data, loss_function, model_performance, mode_name=name)\n",
        "    \n",
        "    for epoch in range(num_epochs):\n",
        "        for input,target in tqdm(dataset['training'],desc='Epoch '+str(epoch+1)):\n",
        "            train_step(model, input, target, loss_function, optimizer)\n",
        "        for data, name in zip(list(dataset.values()),list(dataset.keys())):\n",
        "            performance_test(model, data, loss_function, model_performance, mode_name=name)"
      ]
    },
    {
      "cell_type": "code",
      "execution_count": 18,
      "id": "b4882b16",
      "metadata": {
        "id": "b4882b16"
      },
      "outputs": [],
      "source": [
        "tf.keras.backend.clear_session()\n",
        "\n",
        "'''Hyperparameters'''\n",
        "num_epochs = 10\n",
        "learning_rate = 0.001\n",
        "\n",
        "'''Loss function'''\n",
        "loss_func = tf.keras.losses.BinaryCrossentropy()\n",
        "\n",
        "'''Adam as chosen optimizer'''\n",
        "optimizer = tf.keras.optimizers.Adam(learning_rate)\n",
        "\n",
        "'''Model'''\n",
        "model = LSTM_Model()"
      ]
    },
    {
      "cell_type": "code",
      "execution_count": 19,
      "id": "2509974e",
      "metadata": {
        "colab": {
          "base_uri": "https://localhost:8080/"
        },
        "id": "2509974e",
        "outputId": "cf84780f-6b09-40a2-d23a-fe22bdd79695",
        "scrolled": true
      },
      "outputs": [
        {
          "output_type": "stream",
          "name": "stderr",
          "text": [
            "Sampling Loss/Accuracy for training data: 438it [00:30, 14.42it/s]\n",
            "Sampling Loss/Accuracy for test data: 125it [00:18,  6.76it/s]\n",
            "Sampling Loss/Accuracy for valid data: 63it [00:18,  3.44it/s]\n",
            "Epoch 1: 438it [00:26, 16.23it/s]\n",
            "Sampling Loss/Accuracy for training data: 438it [00:06, 64.80it/s]\n",
            "Sampling Loss/Accuracy for test data: 125it [00:02, 49.02it/s]\n",
            "Sampling Loss/Accuracy for valid data: 63it [00:00, 64.59it/s]\n",
            "Epoch 2: 438it [00:40, 10.70it/s]\n",
            "Sampling Loss/Accuracy for training data: 438it [00:06, 64.78it/s]\n",
            "Sampling Loss/Accuracy for test data: 125it [00:02, 49.05it/s]\n",
            "Sampling Loss/Accuracy for valid data: 63it [00:00, 64.67it/s]\n",
            "Epoch 3: 438it [00:26, 16.61it/s]\n",
            "Sampling Loss/Accuracy for training data: 438it [00:06, 64.77it/s]\n",
            "Sampling Loss/Accuracy for test data: 125it [00:02, 49.01it/s]\n",
            "Sampling Loss/Accuracy for valid data: 63it [00:01, 61.67it/s]\n",
            "Epoch 4: 438it [00:26, 16.39it/s]\n",
            "Sampling Loss/Accuracy for training data: 438it [00:06, 64.34it/s]\n",
            "Sampling Loss/Accuracy for test data: 125it [00:01, 64.98it/s]\n",
            "Sampling Loss/Accuracy for valid data: 63it [00:00, 64.23it/s]\n",
            "Epoch 5: 438it [00:40, 10.70it/s]\n",
            "Sampling Loss/Accuracy for training data: 438it [00:06, 64.99it/s]\n",
            "Sampling Loss/Accuracy for test data: 125it [00:02, 49.04it/s]\n",
            "Sampling Loss/Accuracy for valid data: 63it [00:00, 63.47it/s]\n",
            "Epoch 6: 438it [00:26, 16.61it/s]\n",
            "Sampling Loss/Accuracy for training data: 438it [00:06, 65.56it/s]\n",
            "Sampling Loss/Accuracy for test data: 125it [00:02, 49.00it/s]\n",
            "Sampling Loss/Accuracy for valid data: 63it [00:00, 63.80it/s]\n",
            "Epoch 7: 438it [00:40, 10.70it/s]\n",
            "Sampling Loss/Accuracy for training data: 438it [00:06, 65.06it/s]\n",
            "Sampling Loss/Accuracy for test data: 125it [00:01, 64.23it/s]\n",
            "Sampling Loss/Accuracy for valid data: 63it [00:00, 64.71it/s]\n",
            "Epoch 8: 438it [00:26, 16.60it/s]\n",
            "Sampling Loss/Accuracy for training data: 438it [00:06, 65.08it/s]\n",
            "Sampling Loss/Accuracy for test data: 125it [00:01, 65.49it/s]\n",
            "Sampling Loss/Accuracy for valid data: 63it [00:00, 64.79it/s]\n",
            "Epoch 9: 438it [00:26, 16.60it/s]\n",
            "Sampling Loss/Accuracy for training data: 438it [00:06, 64.87it/s]\n",
            "Sampling Loss/Accuracy for test data: 125it [00:01, 66.17it/s]\n",
            "Sampling Loss/Accuracy for valid data: 63it [00:00, 63.51it/s]\n",
            "Epoch 10: 438it [00:40, 10.70it/s]\n",
            "Sampling Loss/Accuracy for training data: 438it [00:06, 64.20it/s]\n",
            "Sampling Loss/Accuracy for test data: 125it [00:01, 64.46it/s]\n",
            "Sampling Loss/Accuracy for valid data: 63it [00:01, 61.26it/s]\n"
          ]
        }
      ],
      "source": [
        "train_model(model, ds, optimizer, loss_func, num_epochs, model_performance)"
      ]
    },
    {
      "cell_type": "code",
      "source": [
        "model.summary()"
      ],
      "metadata": {
        "colab": {
          "base_uri": "https://localhost:8080/"
        },
        "id": "AKLZn2aG8NtA",
        "outputId": "4975432e-2bc1-41d2-81d4-4b197f36effb"
      },
      "id": "AKLZn2aG8NtA",
      "execution_count": 20,
      "outputs": [
        {
          "output_type": "stream",
          "name": "stdout",
          "text": [
            "Model: \"lstm__model\"\n",
            "_________________________________________________________________\n",
            " Layer (type)                Output Shape              Param #   \n",
            "=================================================================\n",
            " dense (Dense)               multiple                  60        \n",
            "                                                                 \n",
            " lstm__layer (LSTM_Layer)    multiple                  1184      \n",
            "                                                                 \n",
            " dense_5 (Dense)             multiple                  27        \n",
            "                                                                 \n",
            " dense_6 (Dense)             multiple                  4         \n",
            "                                                                 \n",
            "=================================================================\n",
            "Total params: 1,275\n",
            "Trainable params: 1,275\n",
            "Non-trainable params: 0\n",
            "_________________________________________________________________\n"
          ]
        }
      ]
    },
    {
      "cell_type": "markdown",
      "id": "DyUrrf6aWQt2",
      "metadata": {
        "id": "DyUrrf6aWQt2"
      },
      "source": [
        "## 4 Visualization"
      ]
    },
    {
      "cell_type": "code",
      "execution_count": 21,
      "id": "9f0c0385",
      "metadata": {
        "id": "9f0c0385",
        "colab": {
          "base_uri": "https://localhost:8080/",
          "height": 279
        },
        "outputId": "56602946-72c0-45c8-9959-a037222c472f"
      },
      "outputs": [
        {
          "output_type": "display_data",
          "data": {
            "image/png": "[encoded data removed]",
            "text/plain": [
              "<Figure size 1080x288 with 2 Axes>"
            ]
          },
          "metadata": {
            "needs_background": "light"
          }
        }
      ],
      "source": [
        "fig, ax = plt.subplots(1,2,figsize=(15, 4))\n",
        "line1, = ax[0].plot(model_performance['training']['loss'])\n",
        "line2, = ax[0].plot(model_performance['test']['loss'])\n",
        "line3, = ax[0].plot(model_performance['valid']['loss'])\n",
        "line4, = ax[1].plot(model_performance['training']['accuracy'])\n",
        "line5, = ax[1].plot(model_performance['test']['accuracy'])\n",
        "line6, = ax[1].plot(model_performance['valid']['accuracy'])\n",
        "ax[0].set_xlabel(\"Training epoch\")\n",
        "ax[0].set_ylabel(\"Loss\")\n",
        "ax[1].set_xlabel(\"Training epoch\")\n",
        "ax[1].set_ylabel(\"Accuracy\")\n",
        "ax[0].legend((line1,line2,line3),(\"training\",\"test\", 'valid'))\n",
        "ax[1].legend((line4,line5,line6),(\"training\",\"test\", 'valid'))\n",
        "plt.show()"
      ]
    }
  ],
  "metadata": {
    "colab": {
      "collapsed_sections": [],
      "name": "Homework_06_Group_17.ipynb",
      "provenance": []
    },
    "kernelspec": {
      "display_name": "Python 3 (ipykernel)",
      "language": "python",
      "name": "python3"
    },
    "language_info": {
      "codemirror_mode": {
        "name": "ipython",
        "version": 3
      },
      "file_extension": ".py",
      "mimetype": "text/x-python",
      "name": "python",
      "nbconvert_exporter": "python",
      "pygments_lexer": "ipython3",
      "version": "3.9.7"
    },
    "accelerator": "GPU"
  },
  "nbformat": 4,
  "nbformat_minor": 5
}