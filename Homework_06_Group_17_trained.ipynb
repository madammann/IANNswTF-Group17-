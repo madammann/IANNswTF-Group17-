{
  "nbformat": 4,
  "nbformat_minor": 5,
  "metadata": {
    "accelerator": "GPU",
    "colab": {
      "name": "Homework_06_Group_17.ipynb",
      "provenance": [],
      "collapsed_sections": []
    },
    "kernelspec": {
      "display_name": "Python 3 (ipykernel)",
      "language": "python",
      "name": "python3"
    },
    "language_info": {
      "codemirror_mode": {
        "name": "ipython",
        "version": 3
      },
      "file_extension": ".py",
      "mimetype": "text/x-python",
      "name": "python",
      "nbconvert_exporter": "python",
      "pygments_lexer": "ipython3",
      "version": "3.9.7"
    }
  },
  "cells": [
    {
      "cell_type": "markdown",
      "metadata": {
        "id": "4cddc259"
      },
      "source": [
        "# IANNWTF - Homework 06\n",
        "(by Group 17 - Nils Niehaus, Philipp Bauer, Marlon Dammann)"
      ],
      "id": "4cddc259"
    },
    {
      "cell_type": "code",
      "metadata": {
        "id": "6f6c5043"
      },
      "source": [
        "import numpy as np\n",
        "import matplotlib.pyplot as plt\n",
        "import tensorflow as tf\n",
        "import tensorflow_datasets as tfds\n",
        "from tqdm import tqdm"
      ],
      "id": "6f6c5043",
      "execution_count": 1,
      "outputs": []
    },
    {
      "cell_type": "markdown",
      "metadata": {
        "id": "9f5a7942"
      },
      "source": [
        "## 1 Data Set"
      ],
      "id": "9f5a7942"
    },
    {
      "cell_type": "markdown",
      "metadata": {
        "id": "8RylNMcy4bns"
      },
      "source": [
        "We load the dataset:"
      ],
      "id": "8RylNMcy4bns"
    },
    {
      "cell_type": "code",
      "metadata": {
        "id": "d084eee3",
        "colab": {
          "base_uri": "https://localhost:8080/"
        },
        "outputId": "9313baa6-6110-4ef7-959e-200502b783d5"
      },
      "source": [
        "import ssl\n",
        "ssl._create_default_https_context = ssl._create_unverified_context\n",
        "(x_train, y_train), (x_test, y_test) = tf.keras.datasets.cifar10.load_data()"
      ],
      "id": "d084eee3",
      "execution_count": 2,
      "outputs": [
        {
          "output_type": "stream",
          "name": "stdout",
          "text": [
            "Downloading data from https://www.cs.toronto.edu/~kriz/cifar-10-python.tar.gz\n",
            "170500096/170498071 [==============================] - 6s 0us/step\n",
            "170508288/170498071 [==============================] - 6s 0us/step\n"
          ]
        }
      ]
    },
    {
      "cell_type": "markdown",
      "metadata": {
        "id": "3e4af024"
      },
      "source": [
        "and apply the appropriate preprocessing including normalizing, shuffling, prefetching and batching the data as well as onehotifying the targets:"
      ],
      "id": "3e4af024"
    },
    {
      "cell_type": "code",
      "metadata": {
        "id": "b3b104a1"
      },
      "source": [
        "def preprocess_dataset(data, target):\n",
        "    '''We combine the image and target into one dataset'''\n",
        "    data = tf.data.Dataset.from_tensor_slices((data, target))\n",
        "    '''We one-hotify the target and cast into float32 for target and img'''\n",
        "    data = data.map(lambda img, target: (tf.cast(img, 'float32'), tf.one_hot(target[0],depth=10, dtype='float32')))\n",
        "    '''We normalize the color-values to a range of 0-1'''  \n",
        "    data = data.map(lambda img, target: (img/255., target))  \n",
        "    '''We shuffle, take a batch size of 64 and prefetch 20 elements.'''\n",
        "    data = data.shuffle(1000)\n",
        "    data = data.batch(64)\n",
        "    data = data.prefetch(20)\n",
        "    return data"
      ],
      "id": "b3b104a1",
      "execution_count": 3,
      "outputs": []
    },
    {
      "cell_type": "code",
      "metadata": {
        "id": "752da607"
      },
      "source": [
        "train_ds = preprocess_dataset(x_train, y_train)\n",
        "test_ds = preprocess_dataset(x_test, y_test)"
      ],
      "id": "752da607",
      "execution_count": 4,
      "outputs": []
    },
    {
      "cell_type": "markdown",
      "metadata": {
        "id": "2c77b564"
      },
      "source": [
        "## 2 Model"
      ],
      "id": "2c77b564"
    },
    {
      "cell_type": "markdown",
      "metadata": {
        "id": "4a64d9ef"
      },
      "source": [
        "# ResNet:"
      ],
      "id": "4a64d9ef"
    },
    {
      "cell_type": "code",
      "metadata": {
        "id": "c2cfa55a"
      },
      "source": [
        "class ResidualBlock(tf.keras.Model):\n",
        "    def __init__(self, filters_in=64, filters_out=256, mode='normal'):\n",
        "        super(ResidualBlock, self).__init__()\n",
        "        self.mode = mode\n",
        "        self.ReLu = tf.keras.layers.Activation(tf.nn.relu)\n",
        "        if mode == 'normal':\n",
        "            self.batchnorm1 = tf.keras.layers.BatchNormalization()\n",
        "            self.conv1 = tf.keras.layers.Conv2D(filters=filters_in,kernel_size=(1,1),padding='same')\n",
        "            self.batchnorm2 = tf.keras.layers.BatchNormalization()\n",
        "            self.conv2 = tf.keras.layers.Conv2D(filters=filters_in,kernel_size=(3,3),padding='same')\n",
        "            self.batchnorm3 = tf.keras.layers.BatchNormalization()\n",
        "            self.conv3 = tf.keras.layers.Conv2D(filters=filters_out,kernel_size=(1,1),padding='same')\n",
        "            \n",
        "            self.conv4 = tf.keras.layers.Conv2D(filters=filters_out,kernel_size=(1,1),padding='same')\n",
        "            \n",
        "            self.add = tf.keras.layers.Add()\n",
        "        elif mode == 'strided':\n",
        "            self.batchnorm1 = tf.keras.layers.BatchNormalization()\n",
        "            self.conv1 = tf.keras.layers.Conv2D(filters=filters_in,kernel_size=(1,1),padding='same')\n",
        "            self.batchnorm2 = tf.keras.layers.BatchNormalization()\n",
        "            self.conv2 = tf.keras.layers.Conv2D(filters=filters_in,kernel_size=(3,3),padding='same',strides=(2,2))\n",
        "            self.batchnorm3 = tf.keras.layers.BatchNormalization()\n",
        "            self.conv3 = tf.keras.layers.Conv2D(filters=256,kernel_size=(1,1),padding='same')\n",
        "            \n",
        "            self.maxpool = tf.keras.layers.MaxPooling2D(pool_size=(1,1),strides=(2,2))\n",
        "            \n",
        "            self.add = tf.keras.layers.Add()\n",
        "        elif mode == 'constant':\n",
        "            self.batchnorm1 = tf.keras.layers.BatchNormalization()\n",
        "            self.conv1 = tf.keras.layers.Conv2D(filters=filters_in,kernel_size=(1,1),padding='same')\n",
        "            self.batchnorm2 = tf.keras.layers.BatchNormalization()\n",
        "            self.conv2 = tf.keras.layers.Conv2D(filters=filters_in,kernel_size=(3,3),padding='same')\n",
        "            self.batchnorm3 = tf.keras.layers.BatchNormalization()\n",
        "            self.conv3 = tf.keras.layers.Conv2D(filters=filters_out,kernel_size=(1,1),padding='same')\n",
        "    \n",
        "    def call(self, x, is_train=False):\n",
        "        if self.mode == 'normal':\n",
        "            x1 = self.batchnorm1(x,training=is_train)\n",
        "            x1 = self.ReLu(x1)\n",
        "            x1 = self.conv1(x1)\n",
        "            x1 = self.batchnorm2(x1,training=is_train)\n",
        "            x1 = self.ReLu(x1)\n",
        "            x1 = self.conv2(x1)\n",
        "            x1 = self.batchnorm3(x1,training=is_train)\n",
        "            x1 = self.ReLu(x1)\n",
        "            x1 = self.conv3(x1)\n",
        "            \n",
        "            x2 = self.conv4(x)\n",
        "            \n",
        "            x = self.add([x1, x2])\n",
        "        elif self.mode == 'strided':\n",
        "            x1 = self.batchnorm1(x,training=is_train)\n",
        "            x1 = self.ReLu(x1)\n",
        "            x1 = self.conv1(x1)\n",
        "            x1 = self.batchnorm2(x1,training=is_train)\n",
        "            x1 = self.ReLu(x1)\n",
        "            x1 = self.conv2(x1)\n",
        "            x1 = self.batchnorm3(x1,training=is_train)\n",
        "            x1 = self.ReLu(x1)\n",
        "            x1 = self.conv3(x1)\n",
        "            \n",
        "            x2 = self.maxpool(x)\n",
        "            \n",
        "            x = self.add([x1, x2])\n",
        "        elif self.mode == 'constant':\n",
        "            x = self.batchnorm1(x,training=is_train)\n",
        "            x = self.ReLu(x)\n",
        "            x = self.conv1(x)\n",
        "            x = self.batchnorm2(x,training=is_train)\n",
        "            x = self.ReLu(x)\n",
        "            x = self.conv2(x)\n",
        "            x = self.batchnorm3(x,training=is_train)\n",
        "            x = self.ReLu(x)\n",
        "            x = self.conv3(x)\n",
        "        return x"
      ],
      "id": "c2cfa55a",
      "execution_count": 5,
      "outputs": []
    },
    {
      "cell_type": "code",
      "metadata": {
        "id": "5bb1925c"
      },
      "source": [
        "class ResNet(tf.keras.Model):\n",
        "    def __init__(self):\n",
        "        super(ResNet, self).__init__()\n",
        "        self.input_layer = tf.keras.layers.Conv2D(filters=32, kernel_size=(3,3), padding='same', activation='relu')\n",
        "        self.res_block1 = ResidualBlock(filters_in=64)\n",
        "        self.res_block2 = ResidualBlock(filters_in=128,mode='strided')\n",
        "        self.res_block3 = ResidualBlock(filters_in=256,mode='constant')\n",
        "        self.glavgpool = tf.keras.layers.GlobalAveragePooling2D()\n",
        "        self.classifier = tf.keras.layers.Dense(10,activation=tf.nn.softmax)\n",
        "    \n",
        "    def call(self, x, is_train=False):\n",
        "        x = self.input_layer(x)\n",
        "        x = self.res_block1(x,is_train=is_train)\n",
        "        x = self.res_block2(x,is_train=is_train)\n",
        "        x = self.res_block3(x,is_train=is_train)\n",
        "        x = self.glavgpool(x)\n",
        "        x = self.classifier(x)\n",
        "        return x"
      ],
      "id": "5bb1925c",
      "execution_count": 6,
      "outputs": []
    },
    {
      "cell_type": "markdown",
      "metadata": {
        "id": "b5780238"
      },
      "source": [
        "# DenseNet:"
      ],
      "id": "b5780238"
    },
    {
      "cell_type": "code",
      "metadata": {
        "id": "b64326f6"
      },
      "source": [
        "class TransitionLayers(tf.keras.Model):\n",
        "    def __init__(self, filters_in=64):\n",
        "        super(TransitionLayers, self).__init__()\n",
        "        self.conv1 = tf.keras.layers.Conv2D(filters=filters_in//2,kernel_size=(1,1),padding='valid',use_bias=False)\n",
        "        self.batchnorm = tf.keras.layers.BatchNormalization()\n",
        "        self.ReLu = tf.keras.layers.Activation(tf.nn.relu)\n",
        "        self.avgpool = tf.keras.layers.AveragePooling2D(pool_size=(2,2),strides=(2,2),padding='valid')\n",
        "    \n",
        "    def call(self, x, is_train=False):\n",
        "       # x = self.conv1(x)\n",
        "        x = self.batchnorm(x,training=is_train)\n",
        "        x = self.ReLu(x)\n",
        "        x = self.conv1(x)\n",
        "        x = self.avgpool(x)\n",
        "        return x"
      ],
      "id": "b64326f6",
      "execution_count": 7,
      "outputs": []
    },
    {
      "cell_type": "code",
      "metadata": {
        "id": "73e898f5"
      },
      "source": [
        "class DenseBlock(tf.keras.Model):\n",
        "    def __init__(self, filters_in=128, filters_out=32):\n",
        "        super(DenseBlock, self).__init__()\n",
        "        self.ReLu = tf.keras.layers.Activation(tf.nn.relu)\n",
        "        self.bn1 = tf.keras.layers.BatchNormalization()\n",
        "        self.conv1 = tf.keras.layers.Conv2D(filters=filters_in,kernel_size=(1,1),padding='valid',use_bias=False)\n",
        "        self.bn2 = tf.keras.layers.BatchNormalization()\n",
        "        self.conv2 = tf.keras.layers.Conv2D(filters=filters_out,kernel_size=(3,3),padding='same',use_bias=False)\n",
        "    \n",
        "    def call(self, x, is_train=False):\n",
        "        x1 = self.bn1(x,training=is_train)\n",
        "        x1 = self.ReLu(x1)\n",
        "        x1 = self.conv1(x1)\n",
        "        x1 = self.bn2(x1,training=is_train)\n",
        "        x1 = self.ReLu(x1)\n",
        "        x1 = self.conv2(x1)\n",
        "        x = tf.keras.layers.Concatenate(axis=3)([x,x1])\n",
        "        return x"
      ],
      "id": "73e898f5",
      "execution_count": 8,
      "outputs": []
    },
    {
      "cell_type": "code",
      "metadata": {
        "id": "9da47145"
      },
      "source": [
        "class DenseNet(tf.keras.Model):\n",
        "    def __init__(self):\n",
        "        super(DenseNet, self).__init__()\n",
        "        self.input_layer = tf.keras.layers.Conv2D(filters=32, kernel_size=(3,3), padding='same', activation='relu')\n",
        "        self.dense_block6 = [DenseBlock() for _ in range(6)]\n",
        "        self.transition1 = TransitionLayers(filters_in=32*7)\n",
        "        output_shape = (32*7)//2\n",
        "        self.dense_block12 = [DenseBlock() for _ in range(12)]\n",
        "        self.transition2 = TransitionLayers(filters_in=output_shape+32*12)\n",
        "        output_shape = (output_shape+32*12)//2\n",
        "        self.dense_block24 = [DenseBlock() for _ in range(24)]\n",
        "        self.transition3 = TransitionLayers(filters_in=output_shape+32*24)\n",
        "        self.dense_block16 = [DenseBlock() for _ in range(16)]\n",
        "        self.ReLu = tf.keras.layers.Activation(tf.nn.relu)\n",
        "        self.bn = tf.keras.layers.BatchNormalization()\n",
        "        self.glavgpool = tf.keras.layers.GlobalAveragePooling2D()\n",
        "        self.classifier = tf.keras.layers.Dense(10,activation=tf.nn.softmax)\n",
        "    \n",
        "    def call(self, x, is_train=False):\n",
        "        x = self.input_layer(x)\n",
        "        for i in range(len(self.dense_block6)):\n",
        "            x = self.dense_block6[i](x,training=is_train)\n",
        "        x = self.transition1(x,training=is_train)\n",
        "        for i in range(len(self.dense_block12)):\n",
        "            x = self.dense_block12[i](x,training=is_train)\n",
        "        x = self.transition2(x,training=is_train)\n",
        "        for i in range(len(self.dense_block24)):\n",
        "            x = self.dense_block24[i](x,training=is_train)\n",
        "        x = self.transition3(x,training=is_train)\n",
        "        for i in range(len(self.dense_block16)):\n",
        "            x = self.dense_block16[i](x,training=is_train)\n",
        "        x = self.bn(x)\n",
        "        x = self.ReLu(x)\n",
        "        x = self.glavgpool(x)\n",
        "        x = self.classifier(x)\n",
        "        return x"
      ],
      "id": "9da47145",
      "execution_count": 9,
      "outputs": []
    },
    {
      "cell_type": "markdown",
      "metadata": {
        "id": "8e3799fd"
      },
      "source": [
        "## 3 Training"
      ],
      "id": "8e3799fd"
    },
    {
      "cell_type": "code",
      "metadata": {
        "id": "d948e883"
      },
      "source": [
        "model_performance = {\n",
        "    'ResNet' : {\n",
        "        'training': {'loss' : [], 'accuracy' : []},\n",
        "        'test': {'loss' : [], 'accuracy' : []}\n",
        "    },\n",
        "    'DenseNet' : {\n",
        "        'training': {'loss' : [], 'accuracy' : []},\n",
        "        'test': {'loss' : [], 'accuracy' : []}\n",
        "                 }\n",
        "}"
      ],
      "id": "d948e883",
      "execution_count": 10,
      "outputs": []
    },
    {
      "cell_type": "code",
      "metadata": {
        "id": "2a9e585d"
      },
      "source": [
        "dataset = {'training' : train_ds, 'test' : test_ds}"
      ],
      "id": "2a9e585d",
      "execution_count": 11,
      "outputs": []
    },
    {
      "cell_type": "code",
      "metadata": {
        "id": "19548485"
      },
      "source": [
        "def get_loss_and_accuracy(model, data_split, loss_function, mode_name):\n",
        "    '''Returns the loss and accuracy of the model on a given split of the data.'''\n",
        "    accuracy_aggregator = []\n",
        "    loss_aggregator = []\n",
        "\n",
        "    for (input, target) in tqdm(data_split,desc='Sampling Loss/Accuracy for ' + str(mode_name) + ' data'):\n",
        "        prediction = model(input)\n",
        "        sample_loss = loss_function(target, prediction)\n",
        "        sample_accuracy =  np.argmax(target, axis=1) == np.argmax(prediction, axis=1)\n",
        "        loss_aggregator.append(sample_loss.numpy())\n",
        "        accuracy_aggregator.append(np.mean(sample_accuracy))\n",
        "        \n",
        "    loss = tf.reduce_mean(loss_aggregator)\n",
        "    accuracy = tf.reduce_mean(accuracy_aggregator)\n",
        "    return loss, accuracy"
      ],
      "id": "19548485",
      "execution_count": 12,
      "outputs": []
    },
    {
      "cell_type": "code",
      "metadata": {
        "id": "56ef3105"
      },
      "source": [
        "def performance_test(model, data_split, loss_function, model_performance, mode_name, model_type):\n",
        "    '''Evaluation of loss and accuracy of a model on a data split.'''\n",
        "    loss, accuracy = get_loss_and_accuracy(model, data_split, loss_function, mode_name)\n",
        "    model_performance[model_type][mode_name]['loss'].append(loss.numpy())\n",
        "    model_performance[model_type][mode_name]['accuracy'].append(accuracy.numpy())\n",
        "    if mode_name == 'test':\n",
        "      print('Test accuracy for current epoch: ', model_performance[model_type][mode_name]['accuracy'][-1])"
      ],
      "id": "56ef3105",
      "execution_count": 13,
      "outputs": []
    },
    {
      "cell_type": "code",
      "metadata": {
        "id": "91a9251f"
      },
      "source": [
        "def train_step(model, input, target, loss_function, optimizer):\n",
        "    with tf.GradientTape() as tape:\n",
        "        prediction = model(input, is_train=True)\n",
        "        loss = loss_function(target, prediction)\n",
        "        gradients = tape.gradient(loss, model.trainable_variables, unconnected_gradients=tf.UnconnectedGradients.ZERO)\n",
        "        optimizer.apply_gradients(zip(gradients, model.trainable_variables))"
      ],
      "id": "91a9251f",
      "execution_count": 14,
      "outputs": []
    },
    {
      "cell_type": "code",
      "metadata": {
        "id": "82fcb097"
      },
      "source": [
        "def train_model(model, dataset, optimizer, loss_function, num_epochs, model_performance, model_type):\n",
        "    for data, name in zip(list(dataset.values()),list(dataset.keys())):\n",
        "        performance_test(model, data, loss_function, model_performance, mode_name=name, model_type=model_type)\n",
        "    \n",
        "    for epoch in range(num_epochs):\n",
        "        for input,target in tqdm(dataset['training'],desc='Epoch '+str(epoch+1)):\n",
        "            train_step(model, input, target, loss_function, optimizer)\n",
        "            \n",
        "        for data, name in zip(list(dataset.values()),list(dataset.keys())):\n",
        "            performance_test(model, data, loss_function, model_performance, mode_name=name, model_type=model_type)"
      ],
      "id": "82fcb097",
      "execution_count": 15,
      "outputs": []
    },
    {
      "cell_type": "code",
      "metadata": {
        "id": "b4882b16"
      },
      "source": [
        "tf.keras.backend.clear_session()\n",
        "\n",
        "'''Hyperparameters'''\n",
        "\n",
        "'''The task was to use 30 epochs but we decided that it takes way too much time and does not change that much on our result. So we plotted with 10.'''\n",
        "num_epochs = 10 \n",
        "learning_rate = 0.001\n",
        "\n",
        "'''Loss function'''\n",
        "cat_cross_entropy_loss = tf.keras.losses.CategoricalCrossentropy()\n",
        "\n",
        "'''Adam as chosen optimizer'''\n",
        "optimizer = tf.keras.optimizers.Adam(learning_rate)\n",
        "\n",
        "'''Models'''\n",
        "resnet = ResNet()\n",
        "densenet = DenseNet()"
      ],
      "id": "b4882b16",
      "execution_count": 16,
      "outputs": []
    },
    {
      "cell_type": "code",
      "metadata": {
        "colab": {
          "base_uri": "https://localhost:8080/"
        },
        "id": "2509974e",
        "outputId": "7b25e6de-470e-49f9-eca3-a55eed4ebdae"
      },
      "source": [
        "print('**Starting training for ResNet**')\n",
        "train_model(resnet, dataset, optimizer, cat_cross_entropy_loss, num_epochs, model_performance, 'ResNet')"
      ],
      "id": "2509974e",
      "execution_count": 17,
      "outputs": [
        {
          "output_type": "stream",
          "name": "stdout",
          "text": [
            "**Starting training for ResNet**\n"
          ]
        },
        {
          "output_type": "stream",
          "name": "stderr",
          "text": [
            "Sampling Loss/Accuracy for training data: 100%|██████████| 782/782 [00:41<00:00, 19.04it/s]\n",
            "Sampling Loss/Accuracy for test data: 100%|██████████| 157/157 [00:03<00:00, 41.61it/s]\n"
          ]
        },
        {
          "output_type": "stream",
          "name": "stdout",
          "text": [
            "Test accuracy for current epoch:  0.10061703821656051\n"
          ]
        },
        {
          "output_type": "stream",
          "name": "stderr",
          "text": [
            "Epoch 1: 100%|██████████| 782/782 [00:44<00:00, 17.51it/s]\n",
            "Sampling Loss/Accuracy for training data: 100%|██████████| 782/782 [00:18<00:00, 41.89it/s]\n",
            "Sampling Loss/Accuracy for test data: 100%|██████████| 157/157 [00:03<00:00, 44.50it/s]\n"
          ]
        },
        {
          "output_type": "stream",
          "name": "stdout",
          "text": [
            "Test accuracy for current epoch:  0.42466162420382164\n"
          ]
        },
        {
          "output_type": "stream",
          "name": "stderr",
          "text": [
            "Epoch 2: 100%|██████████| 782/782 [00:44<00:00, 17.75it/s]\n",
            "Sampling Loss/Accuracy for training data: 100%|██████████| 782/782 [00:17<00:00, 43.89it/s]\n",
            "Sampling Loss/Accuracy for test data: 100%|██████████| 157/157 [00:03<00:00, 41.14it/s]\n"
          ]
        },
        {
          "output_type": "stream",
          "name": "stdout",
          "text": [
            "Test accuracy for current epoch:  0.46835191082802546\n"
          ]
        },
        {
          "output_type": "stream",
          "name": "stderr",
          "text": [
            "Epoch 3: 100%|██████████| 782/782 [00:43<00:00, 17.87it/s]\n",
            "Sampling Loss/Accuracy for training data: 100%|██████████| 782/782 [00:17<00:00, 44.68it/s]\n",
            "Sampling Loss/Accuracy for test data: 100%|██████████| 157/157 [00:03<00:00, 44.24it/s]\n"
          ]
        },
        {
          "output_type": "stream",
          "name": "stdout",
          "text": [
            "Test accuracy for current epoch:  0.5141321656050956\n"
          ]
        },
        {
          "output_type": "stream",
          "name": "stderr",
          "text": [
            "Epoch 4: 100%|██████████| 782/782 [00:43<00:00, 17.91it/s]\n",
            "Sampling Loss/Accuracy for training data: 100%|██████████| 782/782 [00:18<00:00, 42.99it/s]\n",
            "Sampling Loss/Accuracy for test data: 100%|██████████| 157/157 [00:03<00:00, 41.78it/s]\n"
          ]
        },
        {
          "output_type": "stream",
          "name": "stdout",
          "text": [
            "Test accuracy for current epoch:  0.6162420382165605\n"
          ]
        },
        {
          "output_type": "stream",
          "name": "stderr",
          "text": [
            "Epoch 5: 100%|██████████| 782/782 [00:43<00:00, 17.89it/s]\n",
            "Sampling Loss/Accuracy for training data: 100%|██████████| 782/782 [00:17<00:00, 44.02it/s]\n",
            "Sampling Loss/Accuracy for test data: 100%|██████████| 157/157 [00:03<00:00, 43.41it/s]\n"
          ]
        },
        {
          "output_type": "stream",
          "name": "stdout",
          "text": [
            "Test accuracy for current epoch:  0.5748407643312102\n"
          ]
        },
        {
          "output_type": "stream",
          "name": "stderr",
          "text": [
            "Epoch 6: 100%|██████████| 782/782 [00:44<00:00, 17.64it/s]\n",
            "Sampling Loss/Accuracy for training data: 100%|██████████| 782/782 [00:20<00:00, 38.11it/s]\n",
            "Sampling Loss/Accuracy for test data: 100%|██████████| 157/157 [00:03<00:00, 41.63it/s]\n"
          ]
        },
        {
          "output_type": "stream",
          "name": "stdout",
          "text": [
            "Test accuracy for current epoch:  0.714171974522293\n"
          ]
        },
        {
          "output_type": "stream",
          "name": "stderr",
          "text": [
            "Epoch 7: 100%|██████████| 782/782 [00:44<00:00, 17.45it/s]\n",
            "Sampling Loss/Accuracy for training data: 100%|██████████| 782/782 [00:18<00:00, 41.64it/s]\n",
            "Sampling Loss/Accuracy for test data: 100%|██████████| 157/157 [00:03<00:00, 40.95it/s]\n"
          ]
        },
        {
          "output_type": "stream",
          "name": "stdout",
          "text": [
            "Test accuracy for current epoch:  0.7259156050955414\n"
          ]
        },
        {
          "output_type": "stream",
          "name": "stderr",
          "text": [
            "Epoch 8: 100%|██████████| 782/782 [01:21<00:00,  9.54it/s]\n",
            "Sampling Loss/Accuracy for training data: 100%|██████████| 782/782 [00:18<00:00, 41.35it/s]\n",
            "Sampling Loss/Accuracy for test data: 100%|██████████| 157/157 [00:03<00:00, 40.43it/s]\n"
          ]
        },
        {
          "output_type": "stream",
          "name": "stdout",
          "text": [
            "Test accuracy for current epoch:  0.6081807324840764\n"
          ]
        },
        {
          "output_type": "stream",
          "name": "stderr",
          "text": [
            "Epoch 9: 100%|██████████| 782/782 [00:45<00:00, 17.01it/s]\n",
            "Sampling Loss/Accuracy for training data: 100%|██████████| 782/782 [00:20<00:00, 38.12it/s]\n",
            "Sampling Loss/Accuracy for test data: 100%|██████████| 157/157 [00:03<00:00, 43.38it/s]\n"
          ]
        },
        {
          "output_type": "stream",
          "name": "stdout",
          "text": [
            "Test accuracy for current epoch:  0.7412420382165605\n"
          ]
        },
        {
          "output_type": "stream",
          "name": "stderr",
          "text": [
            "Epoch 10: 100%|██████████| 782/782 [00:44<00:00, 17.46it/s]\n",
            "Sampling Loss/Accuracy for training data: 100%|██████████| 782/782 [00:18<00:00, 41.23it/s]\n",
            "Sampling Loss/Accuracy for test data: 100%|██████████| 157/157 [00:03<00:00, 42.91it/s]"
          ]
        },
        {
          "output_type": "stream",
          "name": "stdout",
          "text": [
            "Test accuracy for current epoch:  0.6831210191082803\n"
          ]
        },
        {
          "output_type": "stream",
          "name": "stderr",
          "text": [
            "\n"
          ]
        }
      ]
    },
    {
      "cell_type": "code",
      "metadata": {
        "colab": {
          "base_uri": "https://localhost:8080/"
        },
        "id": "dfc7bcb3",
        "outputId": "d876a732-2898-4e7c-e8c5-d98f5c7e2002"
      },
      "source": [
        "print('**Starting training for DenseNet**')\n",
        "train_model(densenet, dataset, optimizer, cat_cross_entropy_loss, num_epochs, model_performance, 'DenseNet')"
      ],
      "id": "dfc7bcb3",
      "execution_count": 18,
      "outputs": [
        {
          "output_type": "stream",
          "name": "stdout",
          "text": [
            "**Starting training for DenseNet**\n"
          ]
        },
        {
          "output_type": "stream",
          "name": "stderr",
          "text": [
            "Sampling Loss/Accuracy for training data: 100%|██████████| 782/782 [02:51<00:00,  4.57it/s]\n",
            "Sampling Loss/Accuracy for test data: 100%|██████████| 157/157 [00:40<00:00,  3.83it/s]\n"
          ]
        },
        {
          "output_type": "stream",
          "name": "stdout",
          "text": [
            "Test accuracy for current epoch:  0.09763136942675159\n"
          ]
        },
        {
          "output_type": "stream",
          "name": "stderr",
          "text": [
            "Epoch 1: 100%|██████████| 782/782 [05:52<00:00,  2.22it/s]\n",
            "Sampling Loss/Accuracy for training data: 100%|██████████| 782/782 [02:49<00:00,  4.62it/s]\n",
            "Sampling Loss/Accuracy for test data: 100%|██████████| 157/157 [00:34<00:00,  4.56it/s]\n"
          ]
        },
        {
          "output_type": "stream",
          "name": "stdout",
          "text": [
            "Test accuracy for current epoch:  0.2870222929936306\n"
          ]
        },
        {
          "output_type": "stream",
          "name": "stderr",
          "text": [
            "Epoch 2: 100%|██████████| 782/782 [06:21<00:00,  2.05it/s]\n",
            "Sampling Loss/Accuracy for training data: 100%|██████████| 782/782 [02:53<00:00,  4.51it/s]\n",
            "Sampling Loss/Accuracy for test data: 100%|██████████| 157/157 [00:40<00:00,  3.83it/s]\n"
          ]
        },
        {
          "output_type": "stream",
          "name": "stdout",
          "text": [
            "Test accuracy for current epoch:  0.431031050955414\n"
          ]
        },
        {
          "output_type": "stream",
          "name": "stderr",
          "text": [
            "Epoch 3: 100%|██████████| 782/782 [05:55<00:00,  2.20it/s]\n",
            "Sampling Loss/Accuracy for training data: 100%|██████████| 782/782 [02:52<00:00,  4.54it/s]\n",
            "Sampling Loss/Accuracy for test data: 100%|██████████| 157/157 [00:34<00:00,  4.58it/s]\n"
          ]
        },
        {
          "output_type": "stream",
          "name": "stdout",
          "text": [
            "Test accuracy for current epoch:  0.5082603503184714\n"
          ]
        },
        {
          "output_type": "stream",
          "name": "stderr",
          "text": [
            "Epoch 4: 100%|██████████| 782/782 [06:21<00:00,  2.05it/s]\n",
            "Sampling Loss/Accuracy for training data: 100%|██████████| 782/782 [03:21<00:00,  3.87it/s]\n",
            "Sampling Loss/Accuracy for test data: 100%|██████████| 157/157 [00:34<00:00,  4.55it/s]\n"
          ]
        },
        {
          "output_type": "stream",
          "name": "stdout",
          "text": [
            "Test accuracy for current epoch:  0.5572253184713376\n"
          ]
        },
        {
          "output_type": "stream",
          "name": "stderr",
          "text": [
            "Epoch 5: 100%|██████████| 782/782 [06:21<00:00,  2.05it/s]\n",
            "Sampling Loss/Accuracy for training data: 100%|██████████| 782/782 [02:52<00:00,  4.54it/s]\n",
            "Sampling Loss/Accuracy for test data: 100%|██████████| 157/157 [00:34<00:00,  4.59it/s]\n"
          ]
        },
        {
          "output_type": "stream",
          "name": "stdout",
          "text": [
            "Test accuracy for current epoch:  0.5764331210191083\n"
          ]
        },
        {
          "output_type": "stream",
          "name": "stderr",
          "text": [
            "Epoch 6: 100%|██████████| 782/782 [06:21<00:00,  2.05it/s]\n",
            "Sampling Loss/Accuracy for training data: 100%|██████████| 782/782 [03:21<00:00,  3.87it/s]\n",
            "Sampling Loss/Accuracy for test data: 100%|██████████| 157/157 [00:34<00:00,  4.57it/s]\n"
          ]
        },
        {
          "output_type": "stream",
          "name": "stdout",
          "text": [
            "Test accuracy for current epoch:  0.5874800955414012\n"
          ]
        },
        {
          "output_type": "stream",
          "name": "stderr",
          "text": [
            "Epoch 7: 100%|██████████| 782/782 [05:51<00:00,  2.23it/s]\n",
            "Sampling Loss/Accuracy for training data: 100%|██████████| 782/782 [02:57<00:00,  4.40it/s]\n",
            "Sampling Loss/Accuracy for test data: 100%|██████████| 157/157 [00:40<00:00,  3.83it/s]\n"
          ]
        },
        {
          "output_type": "stream",
          "name": "stdout",
          "text": [
            "Test accuracy for current epoch:  0.6369426751592356\n"
          ]
        },
        {
          "output_type": "stream",
          "name": "stderr",
          "text": [
            "Epoch 8: 100%|██████████| 782/782 [05:59<00:00,  2.17it/s]\n",
            "Sampling Loss/Accuracy for training data: 100%|██████████| 782/782 [03:21<00:00,  3.87it/s]\n",
            "Sampling Loss/Accuracy for test data: 100%|██████████| 157/157 [00:40<00:00,  3.83it/s]\n"
          ]
        },
        {
          "output_type": "stream",
          "name": "stdout",
          "text": [
            "Test accuracy for current epoch:  0.6541600318471338\n"
          ]
        },
        {
          "output_type": "stream",
          "name": "stderr",
          "text": [
            "Epoch 9: 100%|██████████| 782/782 [05:48<00:00,  2.24it/s]\n",
            "Sampling Loss/Accuracy for training data: 100%|██████████| 782/782 [03:21<00:00,  3.87it/s]\n",
            "Sampling Loss/Accuracy for test data: 100%|██████████| 157/157 [00:34<00:00,  4.57it/s]\n"
          ]
        },
        {
          "output_type": "stream",
          "name": "stdout",
          "text": [
            "Test accuracy for current epoch:  0.6510748407643312\n"
          ]
        },
        {
          "output_type": "stream",
          "name": "stderr",
          "text": [
            "Epoch 10: 100%|██████████| 782/782 [06:21<00:00,  2.05it/s]\n",
            "Sampling Loss/Accuracy for training data: 100%|██████████| 782/782 [02:48<00:00,  4.64it/s]\n",
            "Sampling Loss/Accuracy for test data: 100%|██████████| 157/157 [00:40<00:00,  3.83it/s]"
          ]
        },
        {
          "output_type": "stream",
          "name": "stdout",
          "text": [
            "Test accuracy for current epoch:  0.6656050955414012\n"
          ]
        },
        {
          "output_type": "stream",
          "name": "stderr",
          "text": [
            "\n"
          ]
        }
      ]
    },
    {
      "cell_type": "markdown",
      "metadata": {
        "id": "DyUrrf6aWQt2"
      },
      "source": [
        "## 4 Visualization"
      ],
      "id": "DyUrrf6aWQt2"
    },
    {
      "cell_type": "markdown",
      "metadata": {
        "id": "7bfb5bf2"
      },
      "source": [
        "Plotting the accuarcy and loss results via matplotlib."
      ],
      "id": "7bfb5bf2"
    },
    {
      "cell_type": "code",
      "metadata": {
        "id": "9f0c0385"
      },
      "source": [
        "def visualize_performance(model_type):\n",
        "    fig, ax = plt.subplots(1,2,figsize=(15, 4))\n",
        "    line1, = ax[0].plot(model_performance[model_type]['training']['loss'])\n",
        "    line2, = ax[0].plot(model_performance[model_type]['test']['loss'])\n",
        "    line3, = ax[1].plot(model_performance[model_type]['training']['accuracy'])\n",
        "    line4, = ax[1].plot(model_performance[model_type]['test']['accuracy'])\n",
        "    ax[0].set_xlabel(\"Training epoch\")\n",
        "    ax[0].set_ylabel(\"Loss\")\n",
        "    ax[1].set_xlabel(\"Training epoch\")\n",
        "    ax[1].set_ylabel(\"Accuracy\")\n",
        "    ax[0].legend((line1,line2),(\"training\",\"test\"))\n",
        "    ax[1].legend((line3,line4),(\"training\",\"test\"))\n",
        "    plt.show()"
      ],
      "id": "9f0c0385",
      "execution_count": 19,
      "outputs": []
    },
    {
      "cell_type": "code",
      "metadata": {
        "colab": {
          "base_uri": "https://localhost:8080/",
          "height": 279
        },
        "id": "e9610466",
        "outputId": "c7c767f6-1d6d-472e-f1b8-67fc21570fdc"
      },
      "source": [
        "visualize_performance('ResNet')"
      ],
      "id": "e9610466",
      "execution_count": 20,
      "outputs": [
        {
          "output_type": "display_data",
          "data": {
            "image/png": "[encoded data removed]",
            "text/plain": [
              "<Figure size 1080x288 with 2 Axes>"
            ]
          },
          "metadata": {
            "needs_background": "light"
          }
        }
      ]
    },
    {
      "cell_type": "code",
      "metadata": {
        "id": "ae813b5e",
        "colab": {
          "base_uri": "https://localhost:8080/"
        },
        "outputId": "4864e03b-828f-43da-d444-ee0667f08427"
      },
      "source": [
        "print(model_performance['ResNet']['test']['accuracy'])"
      ],
      "id": "ae813b5e",
      "execution_count": 21,
      "outputs": [
        {
          "output_type": "stream",
          "name": "stdout",
          "text": [
            "[0.10061703821656051, 0.42466162420382164, 0.46835191082802546, 0.5141321656050956, 0.6162420382165605, 0.5748407643312102, 0.714171974522293, 0.7259156050955414, 0.6081807324840764, 0.7412420382165605, 0.6831210191082803]\n"
          ]
        }
      ]
    },
    {
      "cell_type": "code",
      "metadata": {
        "id": "bba3e6bc",
        "colab": {
          "base_uri": "https://localhost:8080/",
          "height": 279
        },
        "outputId": "a53cd791-46ae-454d-d781-af2d3e191cdd"
      },
      "source": [
        "visualize_performance('DenseNet')"
      ],
      "id": "bba3e6bc",
      "execution_count": 22,
      "outputs": [
        {
          "output_type": "display_data",
          "data": {
            "image/png": "[encoded data removed]",
            "text/plain": [
              "<Figure size 1080x288 with 2 Axes>"
            ]
          },
          "metadata": {
            "needs_background": "light"
          }
        }
      ]
    },
    {
      "cell_type": "code",
      "metadata": {
        "id": "KAi0jui_8D81",
        "colab": {
          "base_uri": "https://localhost:8080/"
        },
        "outputId": "9864be98-46f4-4a6d-9971-23f17f40eca7"
      },
      "source": [
        "print(model_performance['DenseNet']['test']['accuracy'])"
      ],
      "id": "KAi0jui_8D81",
      "execution_count": 23,
      "outputs": [
        {
          "output_type": "stream",
          "name": "stdout",
          "text": [
            "[0.09763136942675159, 0.2870222929936306, 0.431031050955414, 0.5082603503184714, 0.5572253184713376, 0.5764331210191083, 0.5874800955414012, 0.6369426751592356, 0.6541600318471338, 0.6510748407643312, 0.6656050955414012]\n"
          ]
        }
      ]
    },
    {
      "cell_type": "code",
      "metadata": {
        "id": "RwvXAwROFmm6",
        "colab": {
          "base_uri": "https://localhost:8080/"
        },
        "outputId": "1e34d65a-68c9-420c-c6b0-2039c9b22262"
      },
      "source": [
        "resnet.summary()"
      ],
      "id": "RwvXAwROFmm6",
      "execution_count": 24,
      "outputs": [
        {
          "output_type": "stream",
          "name": "stdout",
          "text": [
            "Model: \"res_net\"\n",
            "_________________________________________________________________\n",
            " Layer (type)                Output Shape              Param #   \n",
            "=================================================================\n",
            " conv2d (Conv2D)             multiple                  896       \n",
            "                                                                 \n",
            " residual_block (ResidualBlo  multiple                 64768     \n",
            " ck)                                                             \n",
            "                                                                 \n",
            " residual_block_1 (ResidualB  multiple                 215552    \n",
            " lock)                                                           \n",
            "                                                                 \n",
            " residual_block_2 (ResidualB  multiple                 724736    \n",
            " lock)                                                           \n",
            "                                                                 \n",
            " global_average_pooling2d (G  multiple                 0         \n",
            " lobalAveragePooling2D)                                          \n",
            "                                                                 \n",
            " dense (Dense)               multiple                  2570      \n",
            "                                                                 \n",
            "=================================================================\n",
            "Total params: 1,008,522\n",
            "Trainable params: 1,005,642\n",
            "Non-trainable params: 2,880\n",
            "_________________________________________________________________\n"
          ]
        }
      ]
    },
    {
      "cell_type": "code",
      "metadata": {
        "id": "dd6c8162",
        "colab": {
          "base_uri": "https://localhost:8080/"
        },
        "outputId": "cb2bacee-ca68-4766-d3ed-30a065071339"
      },
      "source": [
        "densenet.summary()"
      ],
      "id": "dd6c8162",
      "execution_count": 25,
      "outputs": [
        {
          "output_type": "stream",
          "name": "stdout",
          "text": [
            "Model: \"dense_net\"\n",
            "_________________________________________________________________\n",
            " Layer (type)                Output Shape              Param #   \n",
            "=================================================================\n",
            " conv2d_11 (Conv2D)          multiple                  896       \n",
            "                                                                 \n",
            " dense_block (DenseBlock)    multiple                  41600     \n",
            "                                                                 \n",
            " dense_block_1 (DenseBlock)  multiple                  45824     \n",
            "                                                                 \n",
            " dense_block_2 (DenseBlock)  multiple                  50048     \n",
            "                                                                 \n",
            " dense_block_3 (DenseBlock)  multiple                  54272     \n",
            "                                                                 \n",
            " dense_block_4 (DenseBlock)  multiple                  58496     \n",
            "                                                                 \n",
            " dense_block_5 (DenseBlock)  multiple                  62720     \n",
            "                                                                 \n",
            " transition_layers (Transiti  multiple                 25984     \n",
            " onLayers)                                                       \n",
            "                                                                 \n",
            " dense_block_6 (DenseBlock)  multiple                  52160     \n",
            "                                                                 \n",
            " dense_block_7 (DenseBlock)  multiple                  56384     \n",
            "                                                                 \n",
            " dense_block_8 (DenseBlock)  multiple                  60608     \n",
            "                                                                 \n",
            " dense_block_9 (DenseBlock)  multiple                  64832     \n",
            "                                                                 \n",
            " dense_block_10 (DenseBlock)  multiple                 69056     \n",
            "                                                                 \n",
            " dense_block_11 (DenseBlock)  multiple                 73280     \n",
            "                                                                 \n",
            " dense_block_12 (DenseBlock)  multiple                 77504     \n",
            "                                                                 \n",
            " dense_block_13 (DenseBlock)  multiple                 81728     \n",
            "                                                                 \n",
            " dense_block_14 (DenseBlock)  multiple                 85952     \n",
            "                                                                 \n",
            " dense_block_15 (DenseBlock)  multiple                 90176     \n",
            "                                                                 \n",
            " dense_block_16 (DenseBlock)  multiple                 94400     \n",
            "                                                                 \n",
            " dense_block_17 (DenseBlock)  multiple                 98624     \n",
            "                                                                 \n",
            " transition_layers_1 (Transi  multiple                 124992    \n",
            " tionLayers)                                                     \n",
            "                                                                 \n",
            " dense_block_18 (DenseBlock)  multiple                 70112     \n",
            "                                                                 \n",
            " dense_block_19 (DenseBlock)  multiple                 74336     \n",
            "                                                                 \n",
            " dense_block_20 (DenseBlock)  multiple                 78560     \n",
            "                                                                 \n",
            " dense_block_21 (DenseBlock)  multiple                 82784     \n",
            "                                                                 \n",
            " dense_block_22 (DenseBlock)  multiple                 87008     \n",
            "                                                                 \n",
            " dense_block_23 (DenseBlock)  multiple                 91232     \n",
            "                                                                 \n",
            " dense_block_24 (DenseBlock)  multiple                 95456     \n",
            "                                                                 \n",
            " dense_block_25 (DenseBlock)  multiple                 99680     \n",
            "                                                                 \n",
            " dense_block_26 (DenseBlock)  multiple                 103904    \n",
            "                                                                 \n",
            " dense_block_27 (DenseBlock)  multiple                 108128    \n",
            "                                                                 \n",
            " dense_block_28 (DenseBlock)  multiple                 112352    \n",
            "                                                                 \n",
            " dense_block_29 (DenseBlock)  multiple                 116576    \n",
            "                                                                 \n",
            " dense_block_30 (DenseBlock)  multiple                 120800    \n",
            "                                                                 \n",
            " dense_block_31 (DenseBlock)  multiple                 125024    \n",
            "                                                                 \n",
            " dense_block_32 (DenseBlock)  multiple                 129248    \n",
            "                                                                 \n",
            " dense_block_33 (DenseBlock)  multiple                 133472    \n",
            "                                                                 \n",
            " dense_block_34 (DenseBlock)  multiple                 137696    \n",
            "                                                                 \n",
            " dense_block_35 (DenseBlock)  multiple                 141920    \n",
            "                                                                 \n",
            " dense_block_36 (DenseBlock)  multiple                 146144    \n",
            "                                                                 \n",
            " dense_block_37 (DenseBlock)  multiple                 150368    \n",
            "                                                                 \n",
            " dense_block_38 (DenseBlock)  multiple                 154592    \n",
            "                                                                 \n",
            " dense_block_39 (DenseBlock)  multiple                 158816    \n",
            "                                                                 \n",
            " dense_block_40 (DenseBlock)  multiple                 163040    \n",
            "                                                                 \n",
            " dense_block_41 (DenseBlock)  multiple                 167264    \n",
            "                                                                 \n",
            " transition_layers_2 (Transi  multiple                 520192    \n",
            " tionLayers)                                                     \n",
            "                                                                 \n",
            " dense_block_42 (DenseBlock)  multiple                 104432    \n",
            "                                                                 \n",
            " dense_block_43 (DenseBlock)  multiple                 108656    \n",
            "                                                                 \n",
            " dense_block_44 (DenseBlock)  multiple                 112880    \n",
            "                                                                 \n",
            " dense_block_45 (DenseBlock)  multiple                 117104    \n",
            "                                                                 \n",
            " dense_block_46 (DenseBlock)  multiple                 121328    \n",
            "                                                                 \n",
            " dense_block_47 (DenseBlock)  multiple                 125552    \n",
            "                                                                 \n",
            " dense_block_48 (DenseBlock)  multiple                 129776    \n",
            "                                                                 \n",
            " dense_block_49 (DenseBlock)  multiple                 134000    \n",
            "                                                                 \n",
            " dense_block_50 (DenseBlock)  multiple                 138224    \n",
            "                                                                 \n",
            " dense_block_51 (DenseBlock)  multiple                 142448    \n",
            "                                                                 \n",
            " dense_block_52 (DenseBlock)  multiple                 146672    \n",
            "                                                                 \n",
            " dense_block_53 (DenseBlock)  multiple                 150896    \n",
            "                                                                 \n",
            " dense_block_54 (DenseBlock)  multiple                 155120    \n",
            "                                                                 \n",
            " dense_block_55 (DenseBlock)  multiple                 159344    \n",
            "                                                                 \n",
            " dense_block_56 (DenseBlock)  multiple                 163568    \n",
            "                                                                 \n",
            " dense_block_57 (DenseBlock)  multiple                 167792    \n",
            "                                                                 \n",
            " activation_64 (Activation)  multiple                  0         \n",
            "                                                                 \n",
            " batch_normalization_128 (Ba  multiple                 4080      \n",
            " tchNormalization)                                               \n",
            "                                                                 \n",
            " global_average_pooling2d_1   multiple                 0         \n",
            " (GlobalAveragePooling2D)                                        \n",
            "                                                                 \n",
            " dense_1 (Dense)             multiple                  10210     \n",
            "                                                                 \n",
            "=================================================================\n",
            "Total params: 6,930,322\n",
            "Trainable params: 6,848,202\n",
            "Non-trainable params: 82,120\n",
            "_________________________________________________________________\n"
          ]
        }
      ]
    },
    {
      "cell_type": "markdown",
      "metadata": {
        "id": "AuQrzubO2giS"
      },
      "source": [
        "With both resnet and densenet models being more advanced than the simple CNN architecture from last weeks homework, they have to deal with way more parameters (around 120000 compared to around 1 million and 6 million respectively). This results is significantly more time neeed for training but rather similar performance on the given dataset with the densenet and somewhat worse performance with the resnet architecture which tends to overfit and fluctuating accuracy and loss results after a few epochs(ignoring the different batchsizes)."
      ],
      "id": "AuQrzubO2giS"
    }
  ]
}